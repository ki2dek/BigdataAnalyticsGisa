{
  "nbformat": 4,
  "nbformat_minor": 0,
  "metadata": {
    "colab": {
      "provenance": [],
      "include_colab_link": true
    },
    "kernelspec": {
      "name": "python3",
      "display_name": "Python 3"
    },
    "language_info": {
      "name": "python"
    }
  },
  "cells": [
    {
      "cell_type": "markdown",
      "metadata": {
        "id": "view-in-github",
        "colab_type": "text"
      },
      "source": [
        "<a href=\"https://colab.research.google.com/github/ki2dek/BigdataAnalyticsGisa/blob/main/%ED%8C%90%EB%8B%A4%EC%8A%A4_%EC%8B%9C%EA%B3%84%EC%97%B4%EB%8D%B0%EC%9D%B4%ED%84%B0(%EB%B9%88%EC%B9%B8).ipynb\" target=\"_parent\"><img src=\"https://colab.research.google.com/assets/colab-badge.svg\" alt=\"Open In Colab\"/></a>"
      ]
    },
    {
      "cell_type": "markdown",
      "source": [
        "## 시계열 데이터 (Datetime)"
      ],
      "metadata": {
        "id": "r-1MIPYhiRDi"
      }
    },
    {
      "cell_type": "code",
      "source": [
        "# 데이터 생성(실습 전 실행)\n",
        "import pandas as pd\n",
        "data = {\n",
        "    'Date1': ['2024-02-17', '2024-02-18', '2024-02-19'],\n",
        "    'Date2': ['2024:02:17', '2024:02:18', '2024:02:19'],\n",
        "    'Date3': ['24/02/17', '24/02/18', '24/02/19'],\n",
        "    'Date4': ['02/17/2024', '02/18/2024', '02/19/2024'],\n",
        "    'Date5': ['17-Feb-2024', '18-Feb-2024', '19-Feb-2024'],\n",
        "    'Date6': ['2024년02월17일', '2024년02월18일', '2024년02월19일'],\n",
        "    'DateTime1': ['24-02-17 11:45:30', '24-02-18 12:55:45', '24-02-19 13:30:15'],\n",
        "    'DateTime2': ['2024-02-17 11-45-30', '2024-02-18 12-55-45', '2024-02-19 13-30-15'],\n",
        "    'DateTime3': ['02/17/2024 11:45:30 AM', '02/18/2024 12:55:45 PM', '02/19/2024 01:30:15 PM'],\n",
        "    'DateTime4': ['17 Feb 2024 11:45:30', '18 Feb 2024 12:55:45', '19 Feb 2024 13:30:15']\n",
        "}\n",
        "\n",
        "df = pd.DataFrame(data)\n",
        "df.to_csv(\"date.csv\", index=False)\n",
        "df"
      ],
      "metadata": {
        "id": "u6eJpIdtiSKV"
      },
      "execution_count": null,
      "outputs": []
    },
    {
      "cell_type": "code",
      "source": [
        "# 데이터 불러오기\n"
      ],
      "metadata": {
        "id": "EH0L9Kg3uS81"
      },
      "execution_count": null,
      "outputs": []
    },
    {
      "cell_type": "code",
      "source": [
        "# Date1\n",
        "df = pd.read_csv(\"date.csv\")\n"
      ],
      "metadata": {
        "id": "EZOiefa7sqtF"
      },
      "execution_count": null,
      "outputs": []
    },
    {
      "cell_type": "code",
      "source": [
        "# Date2 (year 4자리: %Y)\n",
        "df = pd.read_csv(\"date.csv\")\n"
      ],
      "metadata": {
        "id": "Flvsew1RtW4M"
      },
      "execution_count": null,
      "outputs": []
    },
    {
      "cell_type": "code",
      "source": [
        "# Date3 (year 2자리: %y)\n",
        "df = pd.read_csv(\"date.csv\")\n"
      ],
      "metadata": {
        "id": "z0dBO_qStoP9"
      },
      "execution_count": null,
      "outputs": []
    },
    {
      "cell_type": "code",
      "source": [
        "# Date4\n",
        "df = pd.read_csv(\"date.csv\")\n"
      ],
      "metadata": {
        "id": "sz5Wwm_WtodN"
      },
      "execution_count": null,
      "outputs": []
    },
    {
      "cell_type": "code",
      "source": [
        "# Date5\n",
        "df = pd.read_csv(\"date.csv\")\n"
      ],
      "metadata": {
        "id": "ThotXLuitofg"
      },
      "execution_count": null,
      "outputs": []
    },
    {
      "cell_type": "code",
      "source": [
        "# Date6\n",
        "df = pd.read_csv(\"date.csv\")\n"
      ],
      "metadata": {
        "id": "fy3KYCbqtoj_"
      },
      "execution_count": null,
      "outputs": []
    },
    {
      "cell_type": "code",
      "source": [
        "# DateTime1\n",
        "df = pd.read_csv(\"date.csv\")\n"
      ],
      "metadata": {
        "id": "Fn6079YJtomr"
      },
      "execution_count": null,
      "outputs": []
    },
    {
      "cell_type": "code",
      "source": [
        "# DateTime2\n",
        "df = pd.read_csv(\"date.csv\")\n"
      ],
      "metadata": {
        "id": "z4ZIJo9xtopO"
      },
      "execution_count": null,
      "outputs": []
    },
    {
      "cell_type": "code",
      "source": [
        "# DateTime3\n",
        "df = pd.read_csv(\"date.csv\")\n"
      ],
      "metadata": {
        "id": "Z50wUj-mvrGQ"
      },
      "execution_count": null,
      "outputs": []
    },
    {
      "cell_type": "code",
      "source": [
        "# DateTime4\n",
        "df = pd.read_csv(\"date.csv\")\n"
      ],
      "metadata": {
        "id": "Fcg2RFq5vrM0"
      },
      "execution_count": null,
      "outputs": []
    },
    {
      "cell_type": "code",
      "source": [
        "# 자료형 확인\n"
      ],
      "metadata": {
        "id": "31cvNaugPwRL"
      },
      "execution_count": null,
      "outputs": []
    },
    {
      "cell_type": "code",
      "source": [
        "# 년, 월, 일, 시간, 분, 초 추출\n"
      ],
      "metadata": {
        "id": "xLTXBgrlN3uM"
      },
      "execution_count": null,
      "outputs": []
    },
    {
      "cell_type": "code",
      "source": [
        "#요일 dayofweek 0:월, 1:화, 2:수, 3:목, 4:금, 5:토, 6:일\n"
      ],
      "metadata": {
        "id": "fTZFQ9tFTfxC"
      },
      "execution_count": null,
      "outputs": []
    },
    {
      "cell_type": "code",
      "source": [
        "# 주말\n"
      ],
      "metadata": {
        "id": "ERCfVbpdwNsq"
      },
      "execution_count": null,
      "outputs": []
    },
    {
      "cell_type": "code",
      "source": [
        "# [참고] 기간 to_period()\n"
      ],
      "metadata": {
        "id": "sJDzBUOH5cqW"
      },
      "execution_count": null,
      "outputs": []
    },
    {
      "cell_type": "markdown",
      "source": [
        "## 시계열 데이터 (Timedelta)"
      ],
      "metadata": {
        "id": "Z8GsHgvB5bnB"
      }
    },
    {
      "cell_type": "code",
      "source": [
        "# 데이터 불러오기 (usecols, parse_dates)\n"
      ],
      "metadata": {
        "id": "uBDN3U8x8jgp"
      },
      "execution_count": null,
      "outputs": []
    },
    {
      "cell_type": "code",
      "source": [
        "# 100일째 되는 날\n"
      ],
      "metadata": {
        "id": "bkxW2mXP8joj"
      },
      "execution_count": null,
      "outputs": []
    },
    {
      "cell_type": "code",
      "source": [
        "# 100시간 이후\n"
      ],
      "metadata": {
        "id": "IQoOkkQ78jrD"
      },
      "execution_count": null,
      "outputs": []
    },
    {
      "cell_type": "code",
      "source": [
        "# 시간 +/- (3주, 3일, 3시간, 3분, 3초 이전과 이후)\n"
      ],
      "metadata": {
        "id": "WRkpMiBOESEe"
      },
      "execution_count": null,
      "outputs": []
    },
    {
      "cell_type": "code",
      "source": [
        "# timedelta 자료형(datetime간의 연산 결과)\n"
      ],
      "metadata": {
        "id": "n1nzeqggAei9"
      },
      "execution_count": null,
      "outputs": []
    },
    {
      "cell_type": "code",
      "source": [
        "# 기간을 초로 변환 total_seconds()\n"
      ],
      "metadata": {
        "id": "Rnqln4QqA5S0"
      },
      "execution_count": null,
      "outputs": []
    },
    {
      "cell_type": "code",
      "source": [
        "# 일(days), 초(seconds)\n"
      ],
      "metadata": {
        "id": "2VWRkxugdR1Q"
      },
      "execution_count": null,
      "outputs": []
    },
    {
      "cell_type": "code",
      "source": [
        "# 반올림 (ex: 5.49분) 30초 이상이면 올림, 30초 미만이면 버림\n"
      ],
      "metadata": {
        "id": "0ujUZ9RLF0RS"
      },
      "execution_count": null,
      "outputs": []
    },
    {
      "cell_type": "code",
      "source": [],
      "metadata": {
        "id": "4BO7HIYP54zH"
      },
      "execution_count": null,
      "outputs": []
    },
    {
      "cell_type": "code",
      "source": [],
      "metadata": {
        "id": "dXZrXtKH541T"
      },
      "execution_count": null,
      "outputs": []
    },
    {
      "cell_type": "code",
      "source": [],
      "metadata": {
        "id": "6jfxAlN8543b"
      },
      "execution_count": null,
      "outputs": []
    },
    {
      "cell_type": "code",
      "source": [],
      "metadata": {
        "id": "hwB9e_0H545w"
      },
      "execution_count": null,
      "outputs": []
    },
    {
      "cell_type": "code",
      "source": [],
      "metadata": {
        "id": "7wOwdPgs548R"
      },
      "execution_count": null,
      "outputs": []
    },
    {
      "cell_type": "code",
      "source": [],
      "metadata": {
        "id": "wuxdAy_854--"
      },
      "execution_count": null,
      "outputs": []
    }
  ]
}