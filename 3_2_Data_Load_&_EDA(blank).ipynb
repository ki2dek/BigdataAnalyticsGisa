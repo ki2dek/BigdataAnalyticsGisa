{
  "nbformat": 4,
  "nbformat_minor": 0,
  "metadata": {
    "colab": {
      "provenance": [],
      "include_colab_link": true
    },
    "kernelspec": {
      "name": "python3",
      "display_name": "Python 3"
    },
    "language_info": {
      "name": "python"
    }
  },
  "cells": [
    {
      "cell_type": "markdown",
      "metadata": {
        "id": "view-in-github",
        "colab_type": "text"
      },
      "source": [
        "<a href=\"https://colab.research.google.com/github/ki2dek/BigdataAnalyticsGisa/blob/main/3_2_Data_Load_%26_EDA(blank).ipynb\" target=\"_parent\"><img src=\"https://colab.research.google.com/assets/colab-badge.svg\" alt=\"Open In Colab\"/></a>"
      ]
    },
    {
      "cell_type": "markdown",
      "metadata": {
        "id": "KdCz4fQDZ4c4"
      },
      "source": [
        "## 라이브러리 및 데이터 불러오기 그리고 심플 EDA\n",
        "### 데이터: 성인 인구조사 소득 예측\n",
        "- id : 고유의 id 값\n",
        "- age : 나이\n",
        "- workclass : 고용 형태\n",
        "- fnlwgt : 사람 대표성을 나타내는 가중치 (final weight의 약자)\n",
        "- education : 교육 수준\n",
        "- education_num : 교육 수준 수치\n",
        "- marital_status: 결혼 상태\n",
        "- occupation : 업종\n",
        "- relationship : 가족 관계\n",
        "- race : 인종\n",
        "- sex : 성별\n",
        "- capital_gain : 양도 소득\n",
        "- capital_loss : 양도 손실\n",
        "- hours_per_week : 주당 근무 시간\n",
        "- native_country : 국적\n",
        "- income : 수익(예측해야 하는 값)\n",
        "    - \"> 50K\" : 1\n",
        "    - \"<= 50K\" : 0"
      ]
    },
    {
      "cell_type": "markdown",
      "metadata": {
        "id": "bGii56Tl_MnK"
      },
      "source": [
        "## 라이브러리 불러오기"
      ]
    },
    {
      "cell_type": "code",
      "metadata": {
        "id": "yx8XNdvqWgr0"
      },
      "source": [
        "# 판다스 라이브러리\n"
      ],
      "execution_count": null,
      "outputs": []
    },
    {
      "cell_type": "markdown",
      "metadata": {
        "id": "OhKNwHnV10ZI"
      },
      "source": [
        "## 데이터 불러오기 (3개 일때)\n",
        "- 3개의 데이터가 주어지는 경우\n",
        "- data_atype.zip (수업노트에서 다운로드)"
      ]
    },
    {
      "cell_type": "code",
      "metadata": {
        "id": "X16R6vNhZ7SY"
      },
      "source": [
        "# 데이터 불러오기\n"
      ],
      "execution_count": null,
      "outputs": []
    },
    {
      "cell_type": "markdown",
      "metadata": {
        "id": "VekSTl7Rlgos"
      },
      "source": [
        "## EDA"
      ]
    },
    {
      "cell_type": "code",
      "metadata": {
        "id": "VLtn1bNEaLRI"
      },
      "source": [
        "# 데이터 샘플(상위 5개)\n"
      ],
      "execution_count": null,
      "outputs": []
    },
    {
      "cell_type": "code",
      "metadata": {
        "id": "WARaTC4s7l-k"
      },
      "source": [
        "# 데이터 샘플(하위 5개)\n"
      ],
      "execution_count": null,
      "outputs": []
    },
    {
      "cell_type": "code",
      "metadata": {
        "id": "UQGj9QRk7zPU"
      },
      "source": [
        "# 데이터 샘플(랜덤)\n"
      ],
      "execution_count": null,
      "outputs": []
    },
    {
      "cell_type": "code",
      "metadata": {
        "id": "GEs6y7I2mBCp"
      },
      "source": [
        "# 데이터 크기\n"
      ],
      "execution_count": null,
      "outputs": []
    },
    {
      "cell_type": "code",
      "metadata": {
        "id": "EgTyxCs1mIbX"
      },
      "source": [
        "# 타입\n"
      ],
      "execution_count": null,
      "outputs": []
    },
    {
      "cell_type": "code",
      "metadata": {
        "id": "fzOr5ZAnmRf2"
      },
      "source": [
        "# 수치형 컬럼 통계값 확인(train)\n"
      ],
      "execution_count": null,
      "outputs": []
    },
    {
      "cell_type": "code",
      "metadata": {
        "id": "c4NvKWmromSI"
      },
      "source": [
        "# 수치형 컬럼 통계값 확인(test)\n"
      ],
      "execution_count": null,
      "outputs": []
    },
    {
      "cell_type": "code",
      "metadata": {
        "id": "aVVdBW_7nIPm"
      },
      "source": [
        "# 범주형 컬럼 통계값 확인 (train)\n"
      ],
      "execution_count": null,
      "outputs": []
    },
    {
      "cell_type": "code",
      "metadata": {
        "id": "uaw4WYi3pRpq"
      },
      "source": [
        "# 범주형 컬럼 통계값 확인 (test)\n"
      ],
      "execution_count": null,
      "outputs": []
    },
    {
      "cell_type": "code",
      "metadata": {
        "id": "a04S6m_hnL-n"
      },
      "source": [
        "# 결측치 (train)\n"
      ],
      "execution_count": null,
      "outputs": []
    },
    {
      "cell_type": "code",
      "metadata": {
        "id": "FdOEw-52pYSi"
      },
      "source": [
        "# 결측치 (test)\n"
      ],
      "execution_count": null,
      "outputs": []
    },
    {
      "cell_type": "code",
      "metadata": {
        "id": "CbnlC_q3ndo9"
      },
      "source": [
        "# y_train 샘플 확인\n"
      ],
      "execution_count": null,
      "outputs": []
    },
    {
      "cell_type": "code",
      "metadata": {
        "id": "xjIOv5g4noYc"
      },
      "source": [
        "# target(label)별 개수 확인\n"
      ],
      "execution_count": null,
      "outputs": []
    },
    {
      "cell_type": "code",
      "metadata": {
        "id": "UwEncyRp9IdP"
      },
      "source": [
        "# 상관관계\n",
        "\n",
        "\n",
        "\n",
        "# 판다스 버전이 최신으로 변경될 경우 에러 발생할 수 있습니다. 아래와 같이 numeric_only=True를 사용해주세요! sum(), mean()등도 모두 포함\n",
        "# X_train.corr(numeric_only=True)"
      ],
      "execution_count": null,
      "outputs": []
    },
    {
      "cell_type": "markdown",
      "metadata": {
        "id": "XF2AtXkn1u1_"
      },
      "source": [
        "## 데이터 불러오기 (2개 일때)\n",
        "- 2개의 데이터가 주어지는 경우\n",
        "- data_btype.zip (수업노트에서 다운로드)"
      ]
    },
    {
      "cell_type": "code",
      "metadata": {
        "id": "0fi8UPgY1yXt"
      },
      "source": [
        "# 데이터 불러오기\n"
      ],
      "execution_count": null,
      "outputs": []
    },
    {
      "cell_type": "code",
      "metadata": {
        "id": "hJBgZK5X2lMG"
      },
      "source": [
        "# 데이터 크기\n"
      ],
      "execution_count": null,
      "outputs": []
    },
    {
      "cell_type": "code",
      "metadata": {
        "id": "at3mca0Z2oNU"
      },
      "source": [
        "# 데이터 샘플\n"
      ],
      "execution_count": null,
      "outputs": []
    },
    {
      "cell_type": "code",
      "metadata": {
        "id": "zooKTRog2pg1"
      },
      "source": [
        "# 예측 해야할 값\n"
      ],
      "execution_count": null,
      "outputs": []
    },
    {
      "cell_type": "code",
      "metadata": {
        "id": "dh_SBhdC22E3"
      },
      "source": [
        "# 조건\n"
      ],
      "execution_count": null,
      "outputs": []
    },
    {
      "cell_type": "code",
      "metadata": {
        "id": "-XB_5Xyg29bo"
      },
      "source": [
        "# 남성과 여성의 수"
      ],
      "execution_count": null,
      "outputs": []
    },
    {
      "cell_type": "code",
      "metadata": {
        "id": "B7eDJbVW3deK"
      },
      "source": [
        "# 남성 중 0과 1 (인원 수)\n"
      ],
      "execution_count": null,
      "outputs": []
    },
    {
      "cell_type": "code",
      "metadata": {
        "id": "GY5VH6qL4DBC"
      },
      "source": [
        "# 남성 중 0과 1 (비율)\n"
      ],
      "execution_count": null,
      "outputs": []
    },
    {
      "cell_type": "code",
      "metadata": {
        "id": "1TiINxoC411k"
      },
      "source": [
        "# 여성 중 0과 1 (인원 수)\n"
      ],
      "execution_count": null,
      "outputs": []
    },
    {
      "cell_type": "code",
      "metadata": {
        "id": "_yLSzzy-4Q0U"
      },
      "source": [
        "# 여성 중 0과 1 (비율)\n"
      ],
      "execution_count": null,
      "outputs": []
    },
    {
      "cell_type": "markdown",
      "metadata": {
        "id": "-pyawj9C9uyZ"
      },
      "source": [
        "## 추가적인 EDA\n",
        "- 성별에 따른 소득 수준\n",
        "- 결혼 유무에 따른 소득 수준\n",
        "- 직업에 따른 소득 수준\n",
        "- 가족 관계에 따른 소득 수준\n",
        "- 국적/백인에 따른 소득 수준 (불균형 미국, 백인 데이터가 대부분임)"
      ]
    },
    {
      "cell_type": "markdown",
      "metadata": {
        "id": "aL0h6HSfQmf4"
      },
      "source": [
        "## 주어진 데이터 합치기, 분리"
      ]
    },
    {
      "cell_type": "code",
      "metadata": {
        "id": "0xprFKTbQxuY"
      },
      "source": [
        "# 데이터 크기\n"
      ],
      "execution_count": null,
      "outputs": []
    },
    {
      "cell_type": "code",
      "metadata": {
        "id": "hJv7PU8gd18j"
      },
      "source": [
        "# 데이터 확인\n"
      ],
      "execution_count": null,
      "outputs": []
    },
    {
      "cell_type": "code",
      "metadata": {
        "id": "-up-yOPhQI-U"
      },
      "source": [
        "# X_train y_train 합치는 것 예시\n"
      ],
      "execution_count": null,
      "outputs": []
    },
    {
      "cell_type": "code",
      "metadata": {
        "id": "uxrq78e1eQG_"
      },
      "source": [
        "# 데이터 확인\n"
      ],
      "execution_count": null,
      "outputs": []
    },
    {
      "cell_type": "code",
      "metadata": {
        "id": "-souQSTsQrNc"
      },
      "source": [
        "# train 분리 예시\n"
      ],
      "execution_count": null,
      "outputs": []
    },
    {
      "cell_type": "code",
      "metadata": {
        "id": "P6GvAASPQ-NQ"
      },
      "source": [
        "# 데이터 확인\n"
      ],
      "execution_count": null,
      "outputs": []
    },
    {
      "cell_type": "code",
      "metadata": {
        "id": "RUj-ZD9SRecQ"
      },
      "source": [],
      "execution_count": null,
      "outputs": []
    },
    {
      "cell_type": "code",
      "metadata": {
        "id": "BsFf_X20e_KH"
      },
      "source": [],
      "execution_count": null,
      "outputs": []
    }
  ]
}