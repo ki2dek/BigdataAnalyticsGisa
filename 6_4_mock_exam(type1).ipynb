{
  "nbformat": 4,
  "nbformat_minor": 0,
  "metadata": {
    "colab": {
      "provenance": [],
      "include_colab_link": true
    },
    "kernelspec": {
      "name": "python3",
      "display_name": "Python 3"
    },
    "language_info": {
      "name": "python"
    }
  },
  "cells": [
    {
      "cell_type": "markdown",
      "metadata": {
        "id": "view-in-github",
        "colab_type": "text"
      },
      "source": [
        "<a href=\"https://colab.research.google.com/github/ki2dek/BigdataAnalyticsGisa/blob/main/6_4_mock_exam(type1).ipynb\" target=\"_parent\"><img src=\"https://colab.research.google.com/assets/colab-badge.svg\" alt=\"Open In Colab\"/></a>"
      ]
    },
    {
      "cell_type": "markdown",
      "source": [
        "## 모의고사 작업형1\n",
        "- 시험환경에 복사 - 붙여넣기 한 후 작업 권장함\n",
        "- 시험환경 : https://bit.ly/3H64wpG\n",
        "- (단 코랩을 사용할 경우 1개의 셀로, 캐글을 사용할 경우 스크립트 모드 권장함)"
      ],
      "metadata": {
        "id": "EuZ7Q1nnFhf0"
      }
    },
    {
      "cell_type": "markdown",
      "source": [
        "## 작업형1-1\n",
        "- 앞에서 부터 50%의 데이터와 'target'컬럼이 0 값을 가진 데이터만 활용해 'proline'컬럼의 평균을 구하시오 (소수점 절사(버림), 정수형 출력)"
      ],
      "metadata": {
        "id": "lbEXW4qQFfGl"
      }
    },
    {
      "cell_type": "code",
      "source": [
        "# 시험환경 세팅\n",
        "import pandas as pd\n",
        "from sklearn import datasets\n",
        "dataset = datasets.load_wine()\n",
        "df = pd.DataFrame(dataset['data'], columns=dataset['feature_names'])\n",
        "df['target'] = dataset['target']\n",
        "df.to_csv(\"data1-1.csv\", index=False)\n",
        "\n",
        "#####################################################################\n",
        "\n",
        "# 출력을 원할 경우 print() 함수 활용\n",
        "# 예시) print(df.head())\n",
        "\n",
        "# getcwd(), chdir() 등 작업 폴더 설정 불필요\n",
        "# 파일 경로 상 내부 드라이브 경로(C: 등) 접근 불가\n",
        "\n",
        "# 데이터 파일 읽기 예제\n",
        "import pandas as pd\n",
        "a = pd.read_csv(\"data1-1.csv\")\n",
        "\n",
        "# 사용자 코딩\n",
        "\n",
        "# 답안 제출 예시\n",
        "# print(평균변수값)"
      ],
      "metadata": {
        "id": "0fJTz8fzHU7B"
      },
      "execution_count": null,
      "outputs": []
    },
    {
      "cell_type": "markdown",
      "source": [
        "## 작업형1-2\n",
        "- s1, s2, s3, s4, s5, s6, 컬럼의 행(row)별 합을 구하고 그 합이 0.1보다 큰 값의 수를 구하시오"
      ],
      "metadata": {
        "id": "eD2rsNrFHWc5"
      }
    },
    {
      "cell_type": "code",
      "source": [
        "# 시험환경 세팅\n",
        "import pandas as pd\n",
        "from sklearn import datasets\n",
        "dataset = datasets.load_diabetes()\n",
        "df = pd.DataFrame(dataset['data'], columns=dataset['feature_names'])\n",
        "df.to_csv(\"data1-2.csv\", index=False)\n",
        "\n",
        "#####################################################################\n",
        "\n",
        "# 출력을 원할 경우 print() 함수 활용\n",
        "# 예시) print(df.head())\n",
        "\n",
        "# getcwd(), chdir() 등 작업 폴더 설정 불필요\n",
        "# 파일 경로 상 내부 드라이브 경로(C: 등) 접근 불가\n",
        "\n",
        "# 데이터 파일 읽기 예제\n",
        "import pandas as pd\n",
        "a = pd.read_csv(\"data1-2.csv\")\n",
        "\n",
        "# 사용자 코딩\n",
        "\n",
        "# 답안 제출 예시\n",
        "# print(평균변수값)"
      ],
      "metadata": {
        "id": "-T0lowa5HXwi"
      },
      "execution_count": null,
      "outputs": []
    },
    {
      "cell_type": "markdown",
      "source": [
        "## 작업형1-3\n",
        "- 고유한 값이 가장 많은 컬럼의 이름은?"
      ],
      "metadata": {
        "id": "_2IRBfqpHa_R"
      }
    },
    {
      "cell_type": "code",
      "source": [
        "# 시험환경 세팅\n",
        "import pandas as pd\n",
        "from sklearn import datasets\n",
        "dataset = datasets.load_breast_cancer()\n",
        "df = pd.DataFrame(dataset['data'], columns=dataset['feature_names'])\n",
        "df['target'] = dataset['target']\n",
        "df.to_csv(\"data1-3.csv\", index=False)\n",
        "\n",
        "#####################################################################\n",
        "\n",
        "# 출력을 원할 경우 print() 함수 활용\n",
        "# 예시) print(df.head())\n",
        "\n",
        "# getcwd(), chdir() 등 작업 폴더 설정 불필요\n",
        "# 파일 경로 상 내부 드라이브 경로(C: 등) 접근 불가\n",
        "\n",
        "# 데이터 파일 읽기 예제\n",
        "import pandas as pd\n",
        "a = pd.read_csv(\"data1-3.csv\")\n",
        "\n",
        "# 사용자 코딩\n",
        "\n",
        "# 답안 제출 예시\n",
        "# print(평균변수값)"
      ],
      "metadata": {
        "id": "oLIYVSc7HcN_"
      },
      "execution_count": null,
      "outputs": []
    },
    {
      "cell_type": "markdown",
      "source": [
        "## 풀이. 작업형1-1"
      ],
      "metadata": {
        "id": "fNPwXteurE9y"
      }
    },
    {
      "cell_type": "code",
      "source": [
        "# 시험환경 세팅\n",
        "import pandas as pd\n",
        "from sklearn import datasets\n",
        "dataset = datasets.load_wine()\n",
        "df = pd.DataFrame(dataset['data'], columns=dataset['feature_names'])\n",
        "df['target'] = dataset['target']\n",
        "df.to_csv(\"data1-1.csv\", index=False)\n",
        "\n",
        "#####################################################################\n",
        "\n",
        "# 데이터 파일 읽기 예제\n",
        "import pandas as pd\n",
        "a = pd.read_csv(\"data1-1.csv\")\n",
        "\n",
        "# 사용자 코딩\n",
        "a = a[:int(len(a)/2)]\n",
        "cond = a['target'] == 0\n",
        "a = a[cond]\n",
        "print(int(a['proline'].mean()))"
      ],
      "metadata": {
        "colab": {
          "base_uri": "https://localhost:8080/"
        },
        "id": "-gOFhquprJ0e",
        "outputId": "9f5b98cd-3770-4f22-9bf2-036e438f9b5b"
      },
      "execution_count": null,
      "outputs": [
        {
          "output_type": "stream",
          "name": "stdout",
          "text": [
            "1115\n"
          ]
        }
      ]
    },
    {
      "cell_type": "markdown",
      "source": [
        "## 풀이. 작업형1-2"
      ],
      "metadata": {
        "id": "k-fHj4NkrFKU"
      }
    },
    {
      "cell_type": "code",
      "source": [
        "# 시험환경 세팅\n",
        "import pandas as pd\n",
        "from sklearn import datasets\n",
        "dataset = datasets.load_diabetes()\n",
        "df = pd.DataFrame(dataset['data'], columns=dataset['feature_names'])\n",
        "df.to_csv(\"data1-2.csv\", index=False)\n",
        "\n",
        "#####################################################################\n",
        "\n",
        "# 데이터 파일 읽기 예제\n",
        "import pandas as pd\n",
        "a = pd.read_csv(\"data1-2.csv\")\n",
        "\n",
        "# 사용자 코딩\n",
        "cols = ['s1', 's2', 's3', 's4', 's5', 's6']\n",
        "a = a[cols]\n",
        "# print(a.sum(axis=1))\n",
        "print(sum(a.sum(axis=1)>0.1))"
      ],
      "metadata": {
        "colab": {
          "base_uri": "https://localhost:8080/"
        },
        "id": "7yRfPLFfrY0n",
        "outputId": "23588291-8336-4884-a5a2-1480114bed5c"
      },
      "execution_count": null,
      "outputs": [
        {
          "output_type": "stream",
          "name": "stdout",
          "text": [
            "120\n"
          ]
        }
      ]
    },
    {
      "cell_type": "markdown",
      "source": [
        "## 풀이. 작업형1-3"
      ],
      "metadata": {
        "id": "zeQ6ZQNyrFQh"
      }
    },
    {
      "cell_type": "code",
      "source": [
        "# 시험환경 세팅\n",
        "import pandas as pd\n",
        "from sklearn import datasets\n",
        "dataset = datasets.load_breast_cancer()\n",
        "df = pd.DataFrame(dataset['data'], columns=dataset['feature_names'])\n",
        "df['target'] = dataset['target']\n",
        "df.to_csv(\"data1-3.csv\", index=False)\n",
        "\n",
        "#####################################################################\n",
        "\n",
        "# 데이터 파일 읽기 예제\n",
        "import pandas as pd\n",
        "a = pd.read_csv(\"data1-3.csv\")\n",
        "\n",
        "# 사용자 코딩\n",
        "a = a.nunique()\n",
        "print(a.sort_values(ascending=False).index[0])"
      ],
      "metadata": {
        "colab": {
          "base_uri": "https://localhost:8080/"
        },
        "id": "Mbvl-ivXrZOM",
        "outputId": "fe6d2235-6442-4724-edee-a2f00e489ef5"
      },
      "execution_count": null,
      "outputs": [
        {
          "output_type": "stream",
          "name": "stdout",
          "text": [
            "smoothness error\n"
          ]
        }
      ]
    }
  ]
}