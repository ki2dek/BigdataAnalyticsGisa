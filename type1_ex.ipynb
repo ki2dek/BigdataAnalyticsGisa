{
  "nbformat": 4,
  "nbformat_minor": 0,
  "metadata": {
    "colab": {
      "provenance": [],
      "toc_visible": true,
      "include_colab_link": true
    },
    "kernelspec": {
      "name": "python3",
      "display_name": "Python 3"
    },
    "language_info": {
      "name": "python"
    }
  },
  "cells": [
    {
      "cell_type": "markdown",
      "metadata": {
        "id": "view-in-github",
        "colab_type": "text"
      },
      "source": [
        "<a href=\"https://colab.research.google.com/github/ki2dek/BigdataAnalyticsGisa/blob/main/type1_ex.ipynb\" target=\"_parent\"><img src=\"https://colab.research.google.com/assets/colab-badge.svg\" alt=\"Open In Colab\"/></a>"
      ]
    },
    {
      "cell_type": "markdown",
      "source": [
        "# 작업형1 예시문제\n",
        "### 자동차 데이터 셋에서 qsec 컬럼을 Min-Max Scale로 변환 후 0.5보다 큰 값을 가지는 레코드(row) 수는?"
      ],
      "metadata": {
        "id": "yqsMszatXtxV"
      }
    },
    {
      "cell_type": "markdown",
      "source": [
        "## 문제분석\n",
        "- 문제에서 qsec 컬럼만 묻고 있음 (다른 컬럼 신경 쓸 필요 없음)\n",
        "- MinMax Scale 변환\n",
        "- 조건 0.5보다 큰 값"
      ],
      "metadata": {
        "id": "r9_kOHTMabz6"
      }
    },
    {
      "cell_type": "markdown",
      "source": [
        "## 풀어보기"
      ],
      "metadata": {
        "id": "oWldsHDYqVij"
      }
    },
    {
      "cell_type": "code",
      "source": [],
      "metadata": {
        "id": "CaUf8aL1qL05"
      },
      "execution_count": null,
      "outputs": []
    },
    {
      "cell_type": "code",
      "source": [],
      "metadata": {
        "id": "89wLW3gCqNMs"
      },
      "execution_count": null,
      "outputs": []
    },
    {
      "cell_type": "code",
      "source": [],
      "metadata": {
        "id": "xEIaI2aRqNPM"
      },
      "execution_count": null,
      "outputs": []
    },
    {
      "cell_type": "markdown",
      "source": [
        "# 풀이"
      ],
      "metadata": {
        "id": "rbc1QkCrqRrf"
      }
    },
    {
      "cell_type": "markdown",
      "source": [
        "## 데이터 불러오기"
      ],
      "metadata": {
        "id": "Y81SGvAcYnMY"
      }
    },
    {
      "cell_type": "code",
      "source": [
        "# 데이터 불러오기\n",
        "import pandas as pd\n",
        "# a = pd.read_csv('mtcars.csv') # 샘플\n",
        "\n",
        "def load_data():\n",
        "    return pd.read_csv('mtcars.csv')\n",
        "\n",
        "data = load_data()\n",
        "data.head()"
      ],
      "metadata": {
        "colab": {
          "base_uri": "https://localhost:8080/",
          "height": 206
        },
        "id": "k_sKgK4ZX8HG",
        "outputId": "31a4e566-a52a-42b0-afa8-a31a1b6814e8"
      },
      "execution_count": null,
      "outputs": [
        {
          "output_type": "execute_result",
          "data": {
            "text/html": [
              "<div>\n",
              "<style scoped>\n",
              "    .dataframe tbody tr th:only-of-type {\n",
              "        vertical-align: middle;\n",
              "    }\n",
              "\n",
              "    .dataframe tbody tr th {\n",
              "        vertical-align: top;\n",
              "    }\n",
              "\n",
              "    .dataframe thead th {\n",
              "        text-align: right;\n",
              "    }\n",
              "</style>\n",
              "<table border=\"1\" class=\"dataframe\">\n",
              "  <thead>\n",
              "    <tr style=\"text-align: right;\">\n",
              "      <th></th>\n",
              "      <th>model</th>\n",
              "      <th>mpg</th>\n",
              "      <th>cyl</th>\n",
              "      <th>disp</th>\n",
              "      <th>hp</th>\n",
              "      <th>drat</th>\n",
              "      <th>wt</th>\n",
              "      <th>qsec</th>\n",
              "      <th>vs</th>\n",
              "      <th>am</th>\n",
              "      <th>gear</th>\n",
              "      <th>carb</th>\n",
              "    </tr>\n",
              "  </thead>\n",
              "  <tbody>\n",
              "    <tr>\n",
              "      <th>0</th>\n",
              "      <td>Mazda RX4</td>\n",
              "      <td>21.0</td>\n",
              "      <td>6</td>\n",
              "      <td>160.0</td>\n",
              "      <td>110</td>\n",
              "      <td>3.90</td>\n",
              "      <td>2.620</td>\n",
              "      <td>16.46</td>\n",
              "      <td>0</td>\n",
              "      <td>1</td>\n",
              "      <td>4</td>\n",
              "      <td>4</td>\n",
              "    </tr>\n",
              "    <tr>\n",
              "      <th>1</th>\n",
              "      <td>Mazda RX4 Wag</td>\n",
              "      <td>21.0</td>\n",
              "      <td>6</td>\n",
              "      <td>160.0</td>\n",
              "      <td>110</td>\n",
              "      <td>3.90</td>\n",
              "      <td>2.875</td>\n",
              "      <td>17.02</td>\n",
              "      <td>0</td>\n",
              "      <td>1</td>\n",
              "      <td>4</td>\n",
              "      <td>4</td>\n",
              "    </tr>\n",
              "    <tr>\n",
              "      <th>2</th>\n",
              "      <td>Datsun 710</td>\n",
              "      <td>22.8</td>\n",
              "      <td>4</td>\n",
              "      <td>108.0</td>\n",
              "      <td>93</td>\n",
              "      <td>3.85</td>\n",
              "      <td>2.320</td>\n",
              "      <td>18.61</td>\n",
              "      <td>1</td>\n",
              "      <td>1</td>\n",
              "      <td>4</td>\n",
              "      <td>1</td>\n",
              "    </tr>\n",
              "    <tr>\n",
              "      <th>3</th>\n",
              "      <td>Hornet 4 Drive</td>\n",
              "      <td>21.4</td>\n",
              "      <td>6</td>\n",
              "      <td>258.0</td>\n",
              "      <td>110</td>\n",
              "      <td>3.08</td>\n",
              "      <td>3.215</td>\n",
              "      <td>19.44</td>\n",
              "      <td>1</td>\n",
              "      <td>0</td>\n",
              "      <td>3</td>\n",
              "      <td>1</td>\n",
              "    </tr>\n",
              "    <tr>\n",
              "      <th>4</th>\n",
              "      <td>Hornet Sportabout</td>\n",
              "      <td>18.7</td>\n",
              "      <td>8</td>\n",
              "      <td>360.0</td>\n",
              "      <td>175</td>\n",
              "      <td>3.15</td>\n",
              "      <td>3.440</td>\n",
              "      <td>17.02</td>\n",
              "      <td>0</td>\n",
              "      <td>0</td>\n",
              "      <td>3</td>\n",
              "      <td>2</td>\n",
              "    </tr>\n",
              "  </tbody>\n",
              "</table>\n",
              "</div>"
            ],
            "text/plain": [
              "               model   mpg  cyl   disp   hp  ...   qsec  vs  am  gear  carb\n",
              "0          Mazda RX4  21.0    6  160.0  110  ...  16.46   0   1     4     4\n",
              "1      Mazda RX4 Wag  21.0    6  160.0  110  ...  17.02   0   1     4     4\n",
              "2         Datsun 710  22.8    4  108.0   93  ...  18.61   1   1     4     1\n",
              "3     Hornet 4 Drive  21.4    6  258.0  110  ...  19.44   1   0     3     1\n",
              "4  Hornet Sportabout  18.7    8  360.0  175  ...  17.02   0   0     3     2\n",
              "\n",
              "[5 rows x 12 columns]"
            ]
          },
          "metadata": {},
          "execution_count": 2
        }
      ]
    },
    {
      "cell_type": "markdown",
      "source": [
        "## 스케일링"
      ],
      "metadata": {
        "id": "13zePFfYZ4a1"
      }
    },
    {
      "cell_type": "markdown",
      "source": [
        "### 스케일링 방법1"
      ],
      "metadata": {
        "id": "AolAtgnmYsFL"
      }
    },
    {
      "cell_type": "code",
      "source": [
        "# MinMaxScaler 활용\n",
        "from sklearn.preprocessing import MinMaxScaler\n",
        "\n",
        "data = load_data()\n",
        "scaler = MinMaxScaler()\n",
        "print('MinMax Scale 변환 전: \\n',data['qsec'].head())\n",
        "data['qsec'] = scaler.fit_transform(data[['qsec']])\n",
        "print('MinMax Scale 변환 후: \\n',data['qsec'].head())"
      ],
      "metadata": {
        "colab": {
          "base_uri": "https://localhost:8080/"
        },
        "id": "0tlB-OYyYuLU",
        "outputId": "a8517eaf-a043-40d7-c82a-af5cd74c2c98"
      },
      "execution_count": null,
      "outputs": [
        {
          "output_type": "stream",
          "name": "stdout",
          "text": [
            "MinMax Scale 변환 전: \n",
            " 0    16.46\n",
            "1    17.02\n",
            "2    18.61\n",
            "3    19.44\n",
            "4    17.02\n",
            "Name: qsec, dtype: float64\n",
            "MinMax Scale 변환 후: \n",
            " 0    0.233333\n",
            "1    0.300000\n",
            "2    0.489286\n",
            "3    0.588095\n",
            "4    0.300000\n",
            "Name: qsec, dtype: float64\n"
          ]
        }
      ]
    },
    {
      "cell_type": "markdown",
      "source": [
        "### 스케일링 방법2"
      ],
      "metadata": {
        "id": "9GaAjYQXYMSI"
      }
    },
    {
      "cell_type": "code",
      "source": [
        "# minmax_scale 활용\n",
        "from sklearn.preprocessing import minmax_scale\n",
        "\n",
        "data = load_data()\n",
        "print('MinMax Scale 변환 전: \\n',data['qsec'].head())\n",
        "data['qsec'] = minmax_scale(data['qsec'])\n",
        "print('MinMax Scale 변환 후: \\n',data['qsec'].head())"
      ],
      "metadata": {
        "colab": {
          "base_uri": "https://localhost:8080/"
        },
        "id": "82CDlMnyXw-2",
        "outputId": "b1431caa-a83e-44d4-c19b-6a6551b7b2fd"
      },
      "execution_count": null,
      "outputs": [
        {
          "output_type": "stream",
          "name": "stdout",
          "text": [
            "MinMax Scale 변환 전: \n",
            " 0    16.46\n",
            "1    17.02\n",
            "2    18.61\n",
            "3    19.44\n",
            "4    17.02\n",
            "Name: qsec, dtype: float64\n",
            "MinMax Scale 변환 후: \n",
            " 0    0.233333\n",
            "1    0.300000\n",
            "2    0.489286\n",
            "3    0.588095\n",
            "4    0.300000\n",
            "Name: qsec, dtype: float64\n"
          ]
        }
      ]
    },
    {
      "cell_type": "markdown",
      "source": [
        "### 스케일링 방법3"
      ],
      "metadata": {
        "id": "wLd79tbrZiIH"
      }
    },
    {
      "cell_type": "code",
      "source": [
        "# min-max 함수\n",
        "def my_minmax(data):\n",
        "    data = (data - min(data)) / (max(data) - min(data))\n",
        "    return data\n",
        "\n",
        "print('MinMax Scale 변환 전: \\n',data['qsec'].head())\n",
        "data['qsec'] = my_minmax(data['qsec'])\n",
        "print('MinMax Scale 변환 후: \\n',data['qsec'].head())"
      ],
      "metadata": {
        "colab": {
          "base_uri": "https://localhost:8080/"
        },
        "id": "8mtSI8Q6Zhuv",
        "outputId": "e934c3b5-eec9-41d1-c95c-fb8cf9d045f1"
      },
      "execution_count": null,
      "outputs": [
        {
          "output_type": "stream",
          "name": "stdout",
          "text": [
            "MinMax Scale 변환 전: \n",
            " 0    0.233333\n",
            "1    0.300000\n",
            "2    0.489286\n",
            "3    0.588095\n",
            "4    0.300000\n",
            "Name: qsec, dtype: float64\n",
            "MinMax Scale 변환 후: \n",
            " 0    0.233333\n",
            "1    0.300000\n",
            "2    0.489286\n",
            "3    0.588095\n",
            "4    0.300000\n",
            "Name: qsec, dtype: float64\n"
          ]
        }
      ]
    },
    {
      "cell_type": "markdown",
      "source": [
        "## 조건 (0.5보다 큰 값)"
      ],
      "metadata": {
        "id": "8SQTGHzZZ-Mq"
      }
    },
    {
      "cell_type": "markdown",
      "source": [
        "### sum 활용"
      ],
      "metadata": {
        "id": "-qtfvliCaG2R"
      }
    },
    {
      "cell_type": "code",
      "source": [
        "# True(1)를 더 함\n",
        "cond = data['qsec'] > 0.5\n",
        "print(sum(cond))"
      ],
      "metadata": {
        "colab": {
          "base_uri": "https://localhost:8080/"
        },
        "id": "tl9iUXFxYFfz",
        "outputId": "805e64e2-1af6-442b-c553-99b5cd6cbe8b"
      },
      "execution_count": null,
      "outputs": [
        {
          "output_type": "stream",
          "name": "stdout",
          "text": [
            "9\n"
          ]
        }
      ]
    },
    {
      "cell_type": "code",
      "source": [
        "data['qsec'] > 0.5"
      ],
      "metadata": {
        "colab": {
          "base_uri": "https://localhost:8080/"
        },
        "id": "rVfHRYd8n3Eh",
        "outputId": "acd9c3d1-47f5-46a5-9d81-8ce54300e657"
      },
      "execution_count": null,
      "outputs": [
        {
          "output_type": "execute_result",
          "data": {
            "text/plain": [
              "0     False\n",
              "1     False\n",
              "2     False\n",
              "3      True\n",
              "4     False\n",
              "5      True\n",
              "6     False\n",
              "7      True\n",
              "8      True\n",
              "9     False\n",
              "10     True\n",
              "11    False\n",
              "12    False\n",
              "13    False\n",
              "14    False\n",
              "15    False\n",
              "16    False\n",
              "17     True\n",
              "18    False\n",
              "19     True\n",
              "20     True\n",
              "21    False\n",
              "22    False\n",
              "23    False\n",
              "24    False\n",
              "25     True\n",
              "26    False\n",
              "27    False\n",
              "28    False\n",
              "29    False\n",
              "30    False\n",
              "31    False\n",
              "Name: qsec, dtype: bool"
            ]
          },
          "metadata": {},
          "execution_count": 7
        }
      ]
    },
    {
      "cell_type": "markdown",
      "source": [
        "### len 활용"
      ],
      "metadata": {
        "id": "wvUcaJFIaKRT"
      }
    },
    {
      "cell_type": "code",
      "source": [
        "# 데이터 수를 구함\n",
        "cond = data['qsec'] > 0.5\n",
        "print(len(data[cond]))"
      ],
      "metadata": {
        "colab": {
          "base_uri": "https://localhost:8080/"
        },
        "id": "kmgmtdQdaL6y",
        "outputId": "8ed58d5e-c6be-4cc6-d163-3792fb52e555"
      },
      "execution_count": null,
      "outputs": [
        {
          "output_type": "stream",
          "name": "stdout",
          "text": [
            "9\n"
          ]
        }
      ]
    },
    {
      "cell_type": "markdown",
      "source": [
        "### count 활용"
      ],
      "metadata": {
        "id": "gF2545TEbfMF"
      }
    },
    {
      "cell_type": "code",
      "source": [
        "# 데이터 수를 구함\n",
        "cond = data['qsec'] > 0.5\n",
        "print(data[cond]['qsec'].count())"
      ],
      "metadata": {
        "colab": {
          "base_uri": "https://localhost:8080/"
        },
        "id": "4Uizu__gbeNX",
        "outputId": "658affc8-8e83-453b-81e1-89f64631d8f6"
      },
      "execution_count": null,
      "outputs": [
        {
          "output_type": "stream",
          "name": "stdout",
          "text": [
            "9\n"
          ]
        }
      ]
    },
    {
      "cell_type": "markdown",
      "source": [
        "## 심화학습\n",
        "- 결측치 값이 처리되지 않았을 때 결과"
      ],
      "metadata": {
        "id": "zZkmTh6NcxQy"
      }
    },
    {
      "cell_type": "code",
      "source": [
        "# 결측치가 있는 데이터 생성\n",
        "import numpy as np\n",
        "df = pd.DataFrame(\n",
        "    {\n",
        "        'a':[1,2,3,4,5,6,7,8,9],\n",
        "        'b':[1.3,2.2,3.3,np.nan,5.8,6.9,np.nan,8.2,9.0]\n",
        "    }\n",
        ")\n",
        "df"
      ],
      "metadata": {
        "colab": {
          "base_uri": "https://localhost:8080/",
          "height": 332
        },
        "id": "lfJkcMtSc0v8",
        "outputId": "762fbce5-fdf0-492d-e617-49b24ddb3753"
      },
      "execution_count": null,
      "outputs": [
        {
          "output_type": "execute_result",
          "data": {
            "text/html": [
              "<div>\n",
              "<style scoped>\n",
              "    .dataframe tbody tr th:only-of-type {\n",
              "        vertical-align: middle;\n",
              "    }\n",
              "\n",
              "    .dataframe tbody tr th {\n",
              "        vertical-align: top;\n",
              "    }\n",
              "\n",
              "    .dataframe thead th {\n",
              "        text-align: right;\n",
              "    }\n",
              "</style>\n",
              "<table border=\"1\" class=\"dataframe\">\n",
              "  <thead>\n",
              "    <tr style=\"text-align: right;\">\n",
              "      <th></th>\n",
              "      <th>a</th>\n",
              "      <th>b</th>\n",
              "    </tr>\n",
              "  </thead>\n",
              "  <tbody>\n",
              "    <tr>\n",
              "      <th>0</th>\n",
              "      <td>1</td>\n",
              "      <td>1.3</td>\n",
              "    </tr>\n",
              "    <tr>\n",
              "      <th>1</th>\n",
              "      <td>2</td>\n",
              "      <td>2.2</td>\n",
              "    </tr>\n",
              "    <tr>\n",
              "      <th>2</th>\n",
              "      <td>3</td>\n",
              "      <td>3.3</td>\n",
              "    </tr>\n",
              "    <tr>\n",
              "      <th>3</th>\n",
              "      <td>4</td>\n",
              "      <td>NaN</td>\n",
              "    </tr>\n",
              "    <tr>\n",
              "      <th>4</th>\n",
              "      <td>5</td>\n",
              "      <td>5.8</td>\n",
              "    </tr>\n",
              "    <tr>\n",
              "      <th>5</th>\n",
              "      <td>6</td>\n",
              "      <td>6.9</td>\n",
              "    </tr>\n",
              "    <tr>\n",
              "      <th>6</th>\n",
              "      <td>7</td>\n",
              "      <td>NaN</td>\n",
              "    </tr>\n",
              "    <tr>\n",
              "      <th>7</th>\n",
              "      <td>8</td>\n",
              "      <td>8.2</td>\n",
              "    </tr>\n",
              "    <tr>\n",
              "      <th>8</th>\n",
              "      <td>9</td>\n",
              "      <td>9.0</td>\n",
              "    </tr>\n",
              "  </tbody>\n",
              "</table>\n",
              "</div>"
            ],
            "text/plain": [
              "   a    b\n",
              "0  1  1.3\n",
              "1  2  2.2\n",
              "2  3  3.3\n",
              "3  4  NaN\n",
              "4  5  5.8\n",
              "5  6  6.9\n",
              "6  7  NaN\n",
              "7  8  8.2\n",
              "8  9  9.0"
            ]
          },
          "metadata": {},
          "execution_count": 16
        }
      ]
    },
    {
      "cell_type": "code",
      "source": [
        "# len(데이터프레임)\n",
        "len(df)"
      ],
      "metadata": {
        "colab": {
          "base_uri": "https://localhost:8080/"
        },
        "id": "MPYZeRnVdLcU",
        "outputId": "cc83ef47-b533-46d0-b046-b7712746b895"
      },
      "execution_count": null,
      "outputs": [
        {
          "output_type": "execute_result",
          "data": {
            "text/plain": [
              "9"
            ]
          },
          "metadata": {},
          "execution_count": 19
        }
      ]
    },
    {
      "cell_type": "code",
      "source": [
        "# len(시리즈)\n",
        "len(df['b'])"
      ],
      "metadata": {
        "colab": {
          "base_uri": "https://localhost:8080/"
        },
        "id": "U5drEwtVddel",
        "outputId": "51dfc905-3e62-422d-c39f-083a02494f37"
      },
      "execution_count": null,
      "outputs": [
        {
          "output_type": "execute_result",
          "data": {
            "text/plain": [
              "9"
            ]
          },
          "metadata": {},
          "execution_count": 20
        }
      ]
    },
    {
      "cell_type": "code",
      "source": [
        "# 데이터프레임.count()\n",
        "df.count()"
      ],
      "metadata": {
        "colab": {
          "base_uri": "https://localhost:8080/"
        },
        "id": "UgP_kbkwdlXJ",
        "outputId": "434d0f5b-f89d-49ee-ba57-558772af9036"
      },
      "execution_count": null,
      "outputs": [
        {
          "output_type": "execute_result",
          "data": {
            "text/plain": [
              "a    9\n",
              "b    7\n",
              "dtype: int64"
            ]
          },
          "metadata": {},
          "execution_count": 21
        }
      ]
    },
    {
      "cell_type": "code",
      "source": [
        "# 시리즈.count()\n",
        "df['b'].count()"
      ],
      "metadata": {
        "colab": {
          "base_uri": "https://localhost:8080/"
        },
        "id": "DkrSfJ3vdoWE",
        "outputId": "520d0705-2de0-47bd-dfbb-001e592ad175"
      },
      "execution_count": null,
      "outputs": [
        {
          "output_type": "execute_result",
          "data": {
            "text/plain": [
              "7"
            ]
          },
          "metadata": {},
          "execution_count": 22
        }
      ]
    },
    {
      "cell_type": "markdown",
      "source": [
        "- len: 행의 수\n",
        "- count: NaN이 아닌 (컬럼별) 행의 수\n",
        "- sum: True(1)값을 더했기 때문에 조건문에 따라 달라짐"
      ],
      "metadata": {
        "id": "V_7XoAiFeE2m"
      }
    },
    {
      "cell_type": "code",
      "source": [
        "df['b'] > 3"
      ],
      "metadata": {
        "colab": {
          "base_uri": "https://localhost:8080/"
        },
        "id": "dMne6znPekWA",
        "outputId": "af2c46f6-5849-495d-db14-3ad1bcb7a84c"
      },
      "execution_count": null,
      "outputs": [
        {
          "output_type": "execute_result",
          "data": {
            "text/plain": [
              "0    False\n",
              "1    False\n",
              "2     True\n",
              "3    False\n",
              "4     True\n",
              "5     True\n",
              "6    False\n",
              "7     True\n",
              "8     True\n",
              "Name: b, dtype: bool"
            ]
          },
          "metadata": {},
          "execution_count": 23
        }
      ]
    },
    {
      "cell_type": "code",
      "source": [
        "cond = df['b'] > 3\n",
        "print(sum(cond))"
      ],
      "metadata": {
        "colab": {
          "base_uri": "https://localhost:8080/"
        },
        "id": "he-kewrLeQP6",
        "outputId": "dba6b887-8eb3-4f57-8e98-318a387170c7"
      },
      "execution_count": null,
      "outputs": [
        {
          "output_type": "stream",
          "name": "stdout",
          "text": [
            "5\n"
          ]
        }
      ]
    },
    {
      "cell_type": "code",
      "source": [],
      "metadata": {
        "id": "iAUaaKhwoHk8"
      },
      "execution_count": null,
      "outputs": []
    }
  ]
}