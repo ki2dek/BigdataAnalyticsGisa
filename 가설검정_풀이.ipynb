{
  "nbformat": 4,
  "nbformat_minor": 0,
  "metadata": {
    "colab": {
      "provenance": [],
      "include_colab_link": true
    },
    "kernelspec": {
      "name": "python3",
      "display_name": "Python 3"
    },
    "language_info": {
      "name": "python"
    }
  },
  "cells": [
    {
      "cell_type": "markdown",
      "metadata": {
        "id": "view-in-github",
        "colab_type": "text"
      },
      "source": [
        "<a href=\"https://colab.research.google.com/github/ki2dek/BigdataAnalyticsGisa/blob/main/%EA%B0%80%EC%84%A4%EA%B2%80%EC%A0%95_%ED%92%80%EC%9D%B4.ipynb\" target=\"_parent\"><img src=\"https://colab.research.google.com/assets/colab-badge.svg\" alt=\"Open In Colab\"/></a>"
      ]
    },
    {
      "cell_type": "markdown",
      "source": [
        "# 단일표본검정"
      ],
      "metadata": {
        "id": "GMOOpj9dNqb4"
      }
    },
    {
      "cell_type": "markdown",
      "source": [
        "나커피 유튜버는 최근 판매되는 \"합격 원두(dark)\" 상품의 실제 무게를 조사하였다. 제조사는 \"합격 원두(dark)\"의 무게를 120g라고 표기하였다. 나커피 유튜버는 이 주장이 사실인지 확인하기 위해 상품의 무게를 측정하였다. 다음은 30개의 상품 샘플의 무게 측정 결과다. 이 측정 결과를 바탕으로 제조사의 주장인 상품의 무게(120g)가 사실인지 검정해보시오. (데이터는 정규분포를 따른다고 가정한다.)\n",
        "- 귀무가설: μ = μ0, \"합격 원두(dark)\" 상품의 평균 무게는 120g이다.\n",
        "- 대립가설: μ ≠ μ0, \"합격 원두(dark)\" 상품의 평균 무게는 120g 아니다."
      ],
      "metadata": {
        "id": "ssL4kI2uPwr0"
      }
    },
    {
      "cell_type": "markdown",
      "source": [
        "- μ(뮤): 현재 조사하려는 상품의 실제 평균 무게\n",
        "-\n",
        "μ0(뮤 제로): 제조사가 주장하는 상품의 평균 무게(120g)"
      ],
      "metadata": {
        "id": "D2J9WVRCWICD"
      }
    },
    {
      "cell_type": "markdown",
      "source": [
        "## 1. 기초"
      ],
      "metadata": {
        "id": "-TDdNI3J_IIq"
      }
    },
    {
      "cell_type": "code",
      "source": [
        "import pandas as pd\n",
        "df = pd.DataFrame({\n",
        "    '무게':[119, 121, 121, 119, 125, 115, 121, 118, 117, 127,\n",
        "           123, 129, 119, 124, 114, 126, 122, 124, 121, 116,\n",
        "           123, 123, 127, 118, 122, 117, 124, 125, 123, 121],\n",
        "})"
      ],
      "metadata": {
        "id": "gHct5U3M4ba7"
      },
      "execution_count": null,
      "outputs": []
    },
    {
      "cell_type": "markdown",
      "source": [
        "### 단일표본검정"
      ],
      "metadata": {
        "id": "Xy5Ry7QeX4g6"
      }
    },
    {
      "cell_type": "code",
      "source": [
        "# 단일표본검정\n",
        "from scipy import stats\n",
        "print(stats.ttest_1samp(df['무게'], 120))"
      ],
      "metadata": {
        "colab": {
          "base_uri": "https://localhost:8080/"
        },
        "id": "-IGYGrTy4bkz",
        "outputId": "6516b9de-bf0a-4ebb-c775-bf65a82a5e80"
      },
      "execution_count": null,
      "outputs": [
        {
          "output_type": "stream",
          "name": "stdout",
          "text": [
            "TtestResult(statistic=2.153709967150663, pvalue=0.03970987897788578, df=29)\n"
          ]
        }
      ]
    },
    {
      "cell_type": "code",
      "source": [
        "# 코랩 사이파이 버전 (시험환경 1.7, 2023년 9월)\n",
        "import scipy\n",
        "print(scipy.__version__)"
      ],
      "metadata": {
        "colab": {
          "base_uri": "https://localhost:8080/"
        },
        "id": "54wofQy86caP",
        "outputId": "02515964-bfcf-4140-a985-72429d2be77e"
      },
      "execution_count": null,
      "outputs": [
        {
          "output_type": "stream",
          "name": "stdout",
          "text": [
            "1.11.2\n"
          ]
        }
      ]
    },
    {
      "cell_type": "code",
      "source": [
        "# 대립가설: 합격 원두(dark)\" 상품의 평균 무게는 120g 아니다.\n",
        "print(stats.ttest_1samp(df['무게'], 120, alternative='two-sided'))"
      ],
      "metadata": {
        "colab": {
          "base_uri": "https://localhost:8080/"
        },
        "id": "znbNQA9g7FTm",
        "outputId": "fe3e5e33-f85e-460d-c40a-b6b708dc85ea"
      },
      "execution_count": null,
      "outputs": [
        {
          "output_type": "stream",
          "name": "stdout",
          "text": [
            "TtestResult(statistic=2.153709967150663, pvalue=0.03970987897788578, df=29)\n"
          ]
        }
      ]
    },
    {
      "cell_type": "code",
      "source": [
        "# 대립가설: 합격 원두(dark)\" 상품의 평균 무게는 120g 보다 크다\n",
        "print(stats.ttest_1samp(df['무게'], 120, alternative='greater'))"
      ],
      "metadata": {
        "colab": {
          "base_uri": "https://localhost:8080/"
        },
        "id": "CQKrpzJ07FV_",
        "outputId": "e4a3b7a5-932d-43b5-ede3-298fdb44e99a"
      },
      "execution_count": null,
      "outputs": [
        {
          "output_type": "stream",
          "name": "stdout",
          "text": [
            "TtestResult(statistic=2.153709967150663, pvalue=0.01985493948894289, df=29)\n"
          ]
        }
      ]
    },
    {
      "cell_type": "code",
      "source": [
        "# 대립가설: 합격 원두(dark)\" 상품의 평균 무게는 120g 보다 작다\n",
        "print(stats.ttest_1samp(df['무게'], 120, alternative='less'))"
      ],
      "metadata": {
        "colab": {
          "base_uri": "https://localhost:8080/"
        },
        "id": "gHfAnVzr7FYV",
        "outputId": "1ac542dd-75af-41ec-e73d-8482f140cd16"
      },
      "execution_count": null,
      "outputs": [
        {
          "output_type": "stream",
          "name": "stdout",
          "text": [
            "TtestResult(statistic=2.153709967150663, pvalue=0.9801450605110571, df=29)\n"
          ]
        }
      ]
    },
    {
      "cell_type": "markdown",
      "source": [
        "## 2. 심화"
      ],
      "metadata": {
        "id": "bgT0JC1dMt_Z"
      }
    },
    {
      "cell_type": "code",
      "source": [
        "# 데이터 (정규성에 만족하지 않게 일부 변경)\n",
        "import pandas as pd\n",
        "df = pd.DataFrame({\n",
        "    '무게':[219, 121, 121, 119, 125, 115, 121, 118, 117, 127,\n",
        "           123, 129, 119, 124, 114, 126, 122, 124, 121, 116,\n",
        "           123, 123, 127, 118, 122, 117, 124, 125, 123, 121],\n",
        "})"
      ],
      "metadata": {
        "id": "2QrYQl3e7Fa8"
      },
      "execution_count": null,
      "outputs": []
    },
    {
      "cell_type": "markdown",
      "source": [
        "### Shapiro-Wilk 검정\n",
        "- 귀무가설 (H0): 주어진 데이터 샘플은 정규 분포를 따른다.\n",
        "- 대립가설(H1): 주어진 데이터 샘플은 정규 분포를 따르지 않는다."
      ],
      "metadata": {
        "id": "Jnff_h_iW4gt"
      }
    },
    {
      "cell_type": "code",
      "source": [
        "# Shapiro-Wilk(샤피로-윌크) 정규성 검정\n",
        "from scipy import stats\n",
        "stats.shapiro(df['무게'])"
      ],
      "metadata": {
        "colab": {
          "base_uri": "https://localhost:8080/"
        },
        "id": "Y023nW1Y4biR",
        "outputId": "390bebb8-b66c-48bf-e606-914f757f0c32"
      },
      "execution_count": null,
      "outputs": [
        {
          "output_type": "execute_result",
          "data": {
            "text/plain": [
              "ShapiroResult(statistic=0.3572896718978882, pvalue=2.2139254318709334e-10)"
            ]
          },
          "metadata": {},
          "execution_count": 115
        }
      ]
    },
    {
      "cell_type": "code",
      "source": [
        "\"{:.11f}\".format(2.2139254318709334e-10)"
      ],
      "metadata": {
        "colab": {
          "base_uri": "https://localhost:8080/",
          "height": 35
        },
        "id": "zd8kn8YjfuIx",
        "outputId": "692efa09-e7a8-441d-9edf-848bdf31df2e"
      },
      "execution_count": null,
      "outputs": [
        {
          "output_type": "execute_result",
          "data": {
            "text/plain": [
              "'0.00000000022'"
            ],
            "application/vnd.google.colaboratory.intrinsic+json": {
              "type": "string"
            }
          },
          "metadata": {},
          "execution_count": 116
        }
      ]
    },
    {
      "cell_type": "markdown",
      "source": [
        "### Wilcoxon 검정 (비모수 검정)\n",
        "- 귀무가설 (H0): μ = μ0, \"합격 원두(dark)\" 상품의 중앙값 무게는 120g이다.\n",
        "- 대립가설(H1): μ < μ0, \"합격 원두(dark)\" 상품의 중앙값 무게는 120g 보다 작다\n",
        "\n",
        "(추가) 비모수 검정: 평균 -> 중앙값으로 변경 (중앙값도 평균값이라 동일하다고 하겠습니다.)"
      ],
      "metadata": {
        "id": "N8B2jXYSXwvN"
      }
    },
    {
      "cell_type": "code",
      "source": [
        "# Wilcoxon(윌콕슨)의 부호 순위 검정 수행\n",
        "stats.wilcoxon(df['무게'] - 120, alternative='less')"
      ],
      "metadata": {
        "colab": {
          "base_uri": "https://localhost:8080/",
          "height": 159
        },
        "id": "TphKGRdH4bni",
        "outputId": "babd66d5-baaa-42d2-ad34-1712a54ca154"
      },
      "execution_count": null,
      "outputs": [
        {
          "output_type": "error",
          "ename": "NameError",
          "evalue": "name 'stats' is not defined",
          "traceback": [
            "\u001b[0;31m---------------------------------------------------------------------------\u001b[0m",
            "\u001b[0;31mNameError\u001b[0m                                 Traceback (most recent call last)",
            "\u001b[0;32m<ipython-input-1-9f94fed2b62e>\u001b[0m in \u001b[0;36m<cell line: 2>\u001b[0;34m()\u001b[0m\n\u001b[1;32m      1\u001b[0m \u001b[0;31m# Wilcoxon(윌콕슨)의 부호 순위 검정 수행\u001b[0m\u001b[0;34m\u001b[0m\u001b[0;34m\u001b[0m\u001b[0m\n\u001b[0;32m----> 2\u001b[0;31m \u001b[0mstats\u001b[0m\u001b[0;34m.\u001b[0m\u001b[0mwilcoxon\u001b[0m\u001b[0;34m(\u001b[0m\u001b[0mdf\u001b[0m\u001b[0;34m[\u001b[0m\u001b[0;34m'무게'\u001b[0m\u001b[0;34m]\u001b[0m \u001b[0;34m-\u001b[0m \u001b[0;36m120\u001b[0m\u001b[0;34m,\u001b[0m \u001b[0malternative\u001b[0m\u001b[0;34m=\u001b[0m\u001b[0;34m'less'\u001b[0m\u001b[0;34m)\u001b[0m\u001b[0;34m\u001b[0m\u001b[0;34m\u001b[0m\u001b[0m\n\u001b[0m",
            "\u001b[0;31mNameError\u001b[0m: name 'stats' is not defined"
          ]
        }
      ]
    },
    {
      "cell_type": "code",
      "source": [],
      "metadata": {
        "id": "o1CLTtXHIOax"
      },
      "execution_count": null,
      "outputs": []
    },
    {
      "cell_type": "markdown",
      "source": [
        "# 대응표본검정"
      ],
      "metadata": {
        "id": "zS_wjdjeVYFo"
      }
    },
    {
      "cell_type": "markdown",
      "source": [
        "퇴근후딴짓 크리에이터는 수험생의 점수 향상을 위해 새로운 교육 프로그램을 도입했다. 도입 전과 도입 후의 점수 차이를 확인하기 위해 동일한 수험생의 점수를 비교하였습니다. 다음은 교육 전과 후의 점수 데이터이다. 새로운 교육 프로그램이 효과가 있는지 검정하시오.(데이터는 정규분포를 따른다고 가정한다.)\n",
        "\n",
        "μ<sub>d</sub> = (before – after)의 평균\n",
        "\n",
        "- 귀무가설: μ<sub>d</sub> ≥ 0, 새로운 교육 프로그램은 효과가 없다.\n",
        "- 대립가설: μ<sub>d</sub> < 0, 새로운 교육 프로그램은 효과가 있다.\n",
        "\n"
      ],
      "metadata": {
        "id": "Tc9ROgXKUtV8"
      }
    },
    {
      "cell_type": "markdown",
      "source": [
        "## 1. 기초"
      ],
      "metadata": {
        "id": "kdKpcpA_qc4-"
      }
    },
    {
      "cell_type": "code",
      "source": [
        "# 데이터\n",
        "import pandas as pd\n",
        "df = pd.DataFrame({\n",
        "    'before':[85,90,92,88,86,89,83,87,65,50],\n",
        "    'after':[88,89,96,89,85,88,85,89,78,61]\n",
        "})"
      ],
      "metadata": {
        "id": "fZ0AUIzX0wFH"
      },
      "execution_count": null,
      "outputs": []
    },
    {
      "cell_type": "markdown",
      "source": [
        "### 대응표본검정"
      ],
      "metadata": {
        "id": "LsHDDj3qkD6c"
      }
    },
    {
      "cell_type": "code",
      "source": [
        "# 대응표본검정\n",
        "from scipy import stats\n",
        "stats.ttest_rel(df['before'], df['after'], alternative='less')"
      ],
      "metadata": {
        "id": "41KwCmrynZNV",
        "colab": {
          "base_uri": "https://localhost:8080/"
        },
        "outputId": "29489af1-d2a1-474d-f8e1-63d1c2b1cf04"
      },
      "execution_count": null,
      "outputs": [
        {
          "output_type": "execute_result",
          "data": {
            "text/plain": [
              "TtestResult(statistic=-2.119860886666164, pvalue=0.03152591671694539, df=9)"
            ]
          },
          "metadata": {},
          "execution_count": 148
        }
      ]
    },
    {
      "cell_type": "markdown",
      "source": [
        "μ<sub>d</sub> = (after - before)의 평균\n",
        "- 귀무가설: μ<sub>d</sub> ≤ 0\n",
        "- 대립가설: μ<sub>d</sub> > 0"
      ],
      "metadata": {
        "id": "CCDPYNR_SwiT"
      }
    },
    {
      "cell_type": "code",
      "source": [
        "수# 대응표본검정\n",
        "stats.ttest_rel(df['after'], df['before'], alternative='greater')"
      ],
      "metadata": {
        "id": "C3L2GsbDnaDw",
        "colab": {
          "base_uri": "https://localhost:8080/"
        },
        "outputId": "6c1a079a-8ab6-4ab1-8d40-65bc381d6e6d"
      },
      "execution_count": null,
      "outputs": [
        {
          "output_type": "execute_result",
          "data": {
            "text/plain": [
              "TtestResult(statistic=2.119860886666164, pvalue=0.03152591671694539, df=9)"
            ]
          },
          "metadata": {},
          "execution_count": 149
        }
      ]
    },
    {
      "cell_type": "markdown",
      "source": [
        "## 2. 심화"
      ],
      "metadata": {
        "id": "juH19gbLp9M_"
      }
    },
    {
      "cell_type": "code",
      "source": [
        "# 데이터\n",
        "import pandas as pd\n",
        "df = pd.DataFrame({\n",
        "    'before':[85,90,92,88,86,89,83,87,65,50],\n",
        "    'after':[88,89,96,89,85,88,85,89,78,61]\n",
        "})"
      ],
      "metadata": {
        "id": "yeQu5su4p1mG"
      },
      "execution_count": null,
      "outputs": []
    },
    {
      "cell_type": "markdown",
      "source": [
        "μ<sub>d</sub> = (after - before)의 평균\n",
        "- 귀무가설: μ<sub>d</sub> ≤ 0\n",
        "- 대립가설: μ<sub>d</sub> > 0"
      ],
      "metadata": {
        "id": "nC7X7I0bT3ir"
      }
    },
    {
      "cell_type": "markdown",
      "source": [
        "### Shapiro-Wilk 검정"
      ],
      "metadata": {
        "id": "Oyt1zu1ijtL0"
      }
    },
    {
      "cell_type": "code",
      "source": [
        "# Shapiro-Wilk(샤피로-윌크) 정규성 검정\n",
        "df['diff'] = df['after'] - df['before']\n",
        "from scipy import stats\n",
        "stats.shapiro(df['diff'])"
      ],
      "metadata": {
        "id": "3a4x-qTknaIr",
        "colab": {
          "base_uri": "https://localhost:8080/"
        },
        "outputId": "ec669946-fb29-4684-9999-3128b69fa07c"
      },
      "execution_count": null,
      "outputs": [
        {
          "output_type": "execute_result",
          "data": {
            "text/plain": [
              "ShapiroResult(statistic=0.8106809258460999, pvalue=0.019542988389730453)"
            ]
          },
          "metadata": {},
          "execution_count": 154
        }
      ]
    },
    {
      "cell_type": "markdown",
      "source": [
        "### Wilcoxon 검정 (비모수 검정)"
      ],
      "metadata": {
        "id": "Yd51YGEDjm12"
      }
    },
    {
      "cell_type": "code",
      "source": [
        "# Wilcoxon(윌콕슨)의 부호 순위 검정 수행\n",
        "stats.wilcoxon(df['after'], df['before'], alternative='greater')"
      ],
      "metadata": {
        "id": "jQPHzg9CK8Oj",
        "colab": {
          "base_uri": "https://localhost:8080/"
        },
        "outputId": "efc957a9-12e1-4f40-a76f-e71e0e45b4d2"
      },
      "execution_count": null,
      "outputs": [
        {
          "output_type": "execute_result",
          "data": {
            "text/plain": [
              "WilcoxonResult(statistic=47.5, pvalue=0.0244140625)"
            ]
          },
          "metadata": {},
          "execution_count": 152
        }
      ]
    },
    {
      "cell_type": "code",
      "source": [
        "# Wilcoxon(윌콕슨)의 부호 순위 검정 수행 (diff)\n",
        "stats.wilcoxon(df['diff'], alternative='greater')"
      ],
      "metadata": {
        "id": "X2VJ22P_ptux",
        "colab": {
          "base_uri": "https://localhost:8080/"
        },
        "outputId": "52a041c0-1f93-4a57-efc8-723298aeaad0"
      },
      "execution_count": null,
      "outputs": [
        {
          "output_type": "execute_result",
          "data": {
            "text/plain": [
              "WilcoxonResult(statistic=47.5, pvalue=0.0244140625)"
            ]
          },
          "metadata": {},
          "execution_count": 155
        }
      ]
    },
    {
      "cell_type": "code",
      "source": [],
      "metadata": {
        "id": "RrhL1kJET-97"
      },
      "execution_count": null,
      "outputs": []
    },
    {
      "cell_type": "markdown",
      "source": [
        "# 독립표본검정"
      ],
      "metadata": {
        "id": "BYU2nuhzMm6r"
      }
    },
    {
      "cell_type": "markdown",
      "source": [
        "다음은 빅데이터 분석기사 실기 시험 점수이다. A그룹과 B그룹의 평균 점수가 차이가 있는지 유의수준 0.05하에서 가설 검정하시오.\n",
        "(데이터는 정규분포를 따르고 분산이 동일하다고 가정한다.)\n",
        "- 귀무가설(H0): 그룹별 시험 평균 점수는 차이가 없다. (μ1 = μ2)\n",
        "- 대립가설(H1): 그룹별 시험 평균 점수는 차이가 있다. (μ1 ≠ μ2)"
      ],
      "metadata": {
        "id": "EtVcv6ysUt1W"
      }
    },
    {
      "cell_type": "markdown",
      "source": [
        "## 1. 기초"
      ],
      "metadata": {
        "id": "3bxwaHM2Uq0g"
      }
    },
    {
      "cell_type": "code",
      "source": [
        "# 데이터\n",
        "A = [85, 90, 92, 88, 86, 89, 83, 87,\n",
        "     84, 50, 60, 39, 28, 48, 38, 28]\n",
        "B = [82, 82, 88, 85, 84, 74, 79, 69,\n",
        "     78, 76, 85, 84, 79, 89]"
      ],
      "metadata": {
        "id": "El6O2uwYBeLc"
      },
      "execution_count": null,
      "outputs": []
    },
    {
      "cell_type": "markdown",
      "source": [
        "### 독립표본검정"
      ],
      "metadata": {
        "id": "4am7ta59kGKJ"
      }
    },
    {
      "cell_type": "code",
      "source": [
        "# 독립표본검정\n",
        "from scipy import stats\n",
        "stats.ttest_ind(A, B)"
      ],
      "metadata": {
        "id": "IJBApyCeM0yk",
        "colab": {
          "base_uri": "https://localhost:8080/"
        },
        "outputId": "c58ca26b-4df5-4a58-da46-334470b2f4a8"
      },
      "execution_count": null,
      "outputs": [
        {
          "output_type": "execute_result",
          "data": {
            "text/plain": [
              "TtestResult(statistic=-2.051813915505951, pvalue=0.04964542271174967, df=28.0)"
            ]
          },
          "metadata": {},
          "execution_count": 9
        }
      ]
    },
    {
      "cell_type": "markdown",
      "source": [
        "### 등분산"
      ],
      "metadata": {
        "id": "fWGTgRAniIGN"
      }
    },
    {
      "cell_type": "code",
      "source": [
        "# 두 집단의 분산이 다르다(equal_var=False)\n",
        "stats.ttest_ind(A, B, equal_var=False)"
      ],
      "metadata": {
        "id": "jDFDL5fJM7Cu",
        "colab": {
          "base_uri": "https://localhost:8080/"
        },
        "outputId": "1dfdc41f-6f0b-4673-e74e-b53d147fc5db"
      },
      "execution_count": null,
      "outputs": [
        {
          "output_type": "execute_result",
          "data": {
            "text/plain": [
              "TtestResult(statistic=-2.1837307810153024, pvalue=0.04352730399590312, df=16.729279968729678)"
            ]
          },
          "metadata": {},
          "execution_count": 10
        }
      ]
    },
    {
      "cell_type": "markdown",
      "source": [
        "- 귀무가설(H0): 그룹별 시험 평균 점수는 차이가 없다. (μ1 = μ2)\n",
        "- 대립가설(H1): B그룹 시험 평균 점수가 더 높다. (μ1 < μ2)"
      ],
      "metadata": {
        "id": "AFgCWUWxhwm_"
      }
    },
    {
      "cell_type": "code",
      "source": [
        "# 독립표본검정(less)\n",
        "stats.ttest_ind(A, B, equal_var=True, alternative='less')"
      ],
      "metadata": {
        "id": "ESY4fIAWNL7Y",
        "colab": {
          "base_uri": "https://localhost:8080/"
        },
        "outputId": "6ccaf9a1-4028-4af4-df0e-34d0e2f20d7f"
      },
      "execution_count": null,
      "outputs": [
        {
          "output_type": "execute_result",
          "data": {
            "text/plain": [
              "TtestResult(statistic=-2.051813915505951, pvalue=0.024822711355874834, df=28.0)"
            ]
          },
          "metadata": {},
          "execution_count": 11
        }
      ]
    },
    {
      "cell_type": "markdown",
      "source": [
        "- 귀무가설(H0): 그룹별 시험 평균 점수는 차이가 없다. (μ1 = μ2)\n",
        "- 대립가설(H1): A그룹 시험 평균 점수가 더 높다. (μ1 > μ2)"
      ],
      "metadata": {
        "id": "syRREwRbh8vG"
      }
    },
    {
      "cell_type": "code",
      "source": [
        "# 독립표본검정(greater)\n",
        "stats.ttest_ind(A, B, equal_var=True, alternative='greater')"
      ],
      "metadata": {
        "id": "ASqJKMOgNRcH",
        "colab": {
          "base_uri": "https://localhost:8080/"
        },
        "outputId": "7f6fca40-98a2-4d93-9c0a-91fb647217b6"
      },
      "execution_count": null,
      "outputs": [
        {
          "output_type": "execute_result",
          "data": {
            "text/plain": [
              "TtestResult(statistic=-2.051813915505951, pvalue=0.9751772886441252, df=28.0)"
            ]
          },
          "metadata": {},
          "execution_count": 12
        }
      ]
    },
    {
      "cell_type": "markdown",
      "source": [
        "## 2. 심화"
      ],
      "metadata": {
        "id": "0r1CD7XudcEJ"
      }
    },
    {
      "cell_type": "code",
      "source": [
        "# 데이터\n",
        "import pandas as pd\n",
        "A = [85, 90, 92, 88, 86, 89, 83, 87,\n",
        "     84, 50, 60, 39, 28, 48, 38, 28]\n",
        "B = [82, 82, 88, 85, 84, 74, 79, 69,\n",
        "     78, 76, 85, 84, 79, 89]"
      ],
      "metadata": {
        "id": "NqFJ4Um9dfEy"
      },
      "execution_count": null,
      "outputs": []
    },
    {
      "cell_type": "markdown",
      "source": [
        "### Shapiro-Wilk 검정"
      ],
      "metadata": {
        "id": "h8XH1IIojwQi"
      }
    },
    {
      "cell_type": "code",
      "source": [
        "# Shapiro-Wilk(샤피로-윌크) 정규성 검정\n",
        "from scipy import stats\n",
        "print(stats.shapiro(A))\n",
        "stats.shapiro(B)"
      ],
      "metadata": {
        "colab": {
          "base_uri": "https://localhost:8080/"
        },
        "id": "hFjt4PtKikLh",
        "outputId": "aac19729-de95-4859-c7f7-f8847d47a791"
      },
      "execution_count": null,
      "outputs": [
        {
          "output_type": "stream",
          "name": "stdout",
          "text": [
            "ShapiroResult(statistic=0.8128696084022522, pvalue=0.004057693760842085)\n"
          ]
        },
        {
          "output_type": "execute_result",
          "data": {
            "text/plain": [
              "ShapiroResult(statistic=0.9610027074813843, pvalue=0.7395777702331543)"
            ]
          },
          "metadata": {},
          "execution_count": 14
        }
      ]
    },
    {
      "cell_type": "markdown",
      "source": [
        "### Levene 검정"
      ],
      "metadata": {
        "id": "TQuQbIPBjxN7"
      }
    },
    {
      "cell_type": "code",
      "source": [
        "# Levene(레빈) 등분산 검정 (귀무가설: 분산이 동일하다)\n",
        "stats.levene(A, B)"
      ],
      "metadata": {
        "id": "TCqI_1gndfJ3",
        "colab": {
          "base_uri": "https://localhost:8080/"
        },
        "outputId": "0c33f091-abdb-4ef5-8204-4b6cf3c4addb"
      },
      "execution_count": null,
      "outputs": [
        {
          "output_type": "execute_result",
          "data": {
            "text/plain": [
              "LeveneResult(statistic=8.013957643762076, pvalue=0.008497116974003)"
            ]
          },
          "metadata": {},
          "execution_count": 16
        }
      ]
    },
    {
      "cell_type": "markdown",
      "source": [
        "### 독립표본검정"
      ],
      "metadata": {
        "id": "6oXR4Py4lzDu"
      }
    },
    {
      "cell_type": "markdown",
      "source": [
        "- 귀무가설(H0): 그룹별 시험 평균 점수는 차이가 없다. (μ1 = μ2)\n",
        "- 대립가설(H1): B그룹 시험 평균 점수가 더 높다. (μ1 < μ2)"
      ],
      "metadata": {
        "id": "xVrp-5T5KsyG"
      }
    },
    {
      "cell_type": "code",
      "source": [
        "# 독립표본검정\n",
        "stats.ttest_ind(A, B, equal_var=False, alternative='less')"
      ],
      "metadata": {
        "id": "Kimci0kWdfMb",
        "colab": {
          "base_uri": "https://localhost:8080/"
        },
        "outputId": "2eb2cd05-bc45-41ce-b95a-09b6d70b6c1d"
      },
      "execution_count": null,
      "outputs": [
        {
          "output_type": "execute_result",
          "data": {
            "text/plain": [
              "TtestResult(statistic=-2.1837307810153024, pvalue=0.02176365199795156, df=16.729279968729678)"
            ]
          },
          "metadata": {},
          "execution_count": 18
        }
      ]
    },
    {
      "cell_type": "code",
      "source": [],
      "metadata": {
        "id": "oYRCmYeCi9kJ"
      },
      "execution_count": null,
      "outputs": []
    },
    {
      "cell_type": "markdown",
      "source": [
        "### Mann-Whitney U 검정 (비모수 검정)"
      ],
      "metadata": {
        "id": "GQityTjdjHiD"
      }
    },
    {
      "cell_type": "markdown",
      "source": [
        "- 귀무가설(H0): 그룹별 시험 중앙값 점수는 차이가 없다. (μ1 = μ2)\n",
        "- 대립가설(H1): B그룹 시험 중앙값 점수가 더 높다. (μ1 < μ2)\n",
        "\n",
        "(추가) 비모수 검정: 평균 -> 중앙값으로 변경 (중앙값도 평균값이라 동일하다고 하겠습니다.)"
      ],
      "metadata": {
        "id": "jk0zoZgPKq8Z"
      }
    },
    {
      "cell_type": "code",
      "source": [
        "# Mann-Whitney U(만-휘트니 유) 검정\n",
        "stats.mannwhitneyu(A, B, alternative='less')"
      ],
      "metadata": {
        "id": "-b36JAVvfUeN",
        "colab": {
          "base_uri": "https://localhost:8080/"
        },
        "outputId": "b42de807-5002-4d44-95bf-dfa201e27890"
      },
      "execution_count": null,
      "outputs": [
        {
          "output_type": "execute_result",
          "data": {
            "text/plain": [
              "MannwhitneyuResult(statistic=106.0, pvalue=0.40944636368515097)"
            ]
          },
          "metadata": {},
          "execution_count": 15
        }
      ]
    },
    {
      "cell_type": "code",
      "source": [],
      "metadata": {
        "id": "1D1vDxze5DaW"
      },
      "execution_count": null,
      "outputs": []
    }
  ]
}