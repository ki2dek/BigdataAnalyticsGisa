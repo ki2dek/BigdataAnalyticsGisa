{
  "nbformat": 4,
  "nbformat_minor": 0,
  "metadata": {
    "colab": {
      "provenance": [],
      "include_colab_link": true
    },
    "kernelspec": {
      "name": "python3",
      "display_name": "Python 3"
    },
    "language_info": {
      "name": "python"
    }
  },
  "cells": [
    {
      "cell_type": "markdown",
      "metadata": {
        "id": "view-in-github",
        "colab_type": "text"
      },
      "source": [
        "<a href=\"https://colab.research.google.com/github/ki2dek/BigdataAnalyticsGisa/blob/main/3_4_Feature_engineering(blank).ipynb\" target=\"_parent\"><img src=\"https://colab.research.google.com/assets/colab-badge.svg\" alt=\"Open In Colab\"/></a>"
      ]
    },
    {
      "cell_type": "markdown",
      "metadata": {
        "id": "TEh2cF455Y1N"
      },
      "source": [
        "## 피처엔지니어링\n",
        "- 스케일\n",
        "- 인코딩\n",
        "- 데이터 : data_atype.zip (수업노트에서 다운로드)"
      ]
    },
    {
      "cell_type": "code",
      "metadata": {
        "id": "VVfj_7Fp-eAM"
      },
      "source": [
        "# 데이터 불러오기\n"
      ],
      "execution_count": null,
      "outputs": []
    },
    {
      "cell_type": "code",
      "metadata": {
        "id": "Otpn0_4L-pmI"
      },
      "source": [
        "# 데이터 샘플 확인\n"
      ],
      "execution_count": null,
      "outputs": []
    },
    {
      "cell_type": "markdown",
      "metadata": {
        "id": "O_VEfG_wMAh_"
      },
      "source": [
        "## 데이터 전처리 (이전시간 작업)"
      ]
    },
    {
      "cell_type": "code",
      "metadata": {
        "id": "iJeK_2CXMEFD"
      },
      "source": [
        "# X_train데이터\n",
        "X_train['workclass'] = X_train['workclass'].fillna(X_train['workclass'].mode()[0])\n",
        "X_train['native.country'] = X_train['native.country'].fillna(X_train['native.country'].mode()[0])\n",
        "X_train['occupation'] = X_train['occupation'].fillna(\"X\")\n",
        "X_train['age'] = X_train['age'].fillna(int(X_train['age'].mean()))\n",
        "X_train['hours.per.week'] = X_train['hours.per.week'].fillna(X_train['hours.per.week'].median())\n",
        "\n",
        "# X_test데이터\n",
        "X_test['workclass'] = X_test['workclass'].fillna(X_test['workclass'].mode()[0])\n",
        "X_test['native.country']  = X_test['native.country'].fillna(X_test['native.country'].mode()[0])\n",
        "X_test['occupation'] = X_test['occupation'].fillna(\"X\")\n",
        "X_test['age'] = X_test['age'].fillna(int(X_train['age'].mean()))\n",
        "X_test['hours.per.week'] = X_test['hours.per.week'].fillna(X_train['hours.per.week'].median())"
      ],
      "execution_count": null,
      "outputs": []
    },
    {
      "cell_type": "code",
      "metadata": {
        "id": "7ujDDa7YUQlL"
      },
      "source": [
        "# 결측치 확인\n"
      ],
      "execution_count": null,
      "outputs": []
    },
    {
      "cell_type": "markdown",
      "metadata": {
        "id": "6l6kBGgzIg1R"
      },
      "source": [
        "## 수치형 데이터와 범주형 데이터 분리"
      ]
    },
    {
      "cell_type": "code",
      "metadata": {
        "id": "x76qTL9V-v_X"
      },
      "source": [
        "# 데이터 타입 확인\n"
      ],
      "execution_count": null,
      "outputs": []
    },
    {
      "cell_type": "code",
      "metadata": {
        "id": "bXfT3ViuIjnp"
      },
      "source": [
        "# 수치형 컬럼과 범주형 컬럼 데이터 나누기\n",
        "# n_train = X_train.select_dtypes(exclude='object').copy()\n",
        "# n_test = X_test.select_dtypes(exclude='object').copy()\n",
        "\n",
        "# c_train = X_train.select_dtypes(include='object').copy()\n",
        "# c_test = X_test.select_dtypes(include='object').copy()\n",
        "\n",
        "\n",
        "# 데이터를 매번 새롭게 불러오기 위해 함수로 제작 함\n",
        "def get_nc_data():\n",
        "    X_train = pd.read_csv(\"X_train.csv\")\n",
        "    X_test = pd.read_csv(\"X_test.csv\")\n",
        "    y_train = pd.read_csv(\"y_train.csv\")\n",
        "\n",
        "    n_train = X_train.select_dtypes(exclude='object').copy()\n",
        "    n_test = X_test.select_dtypes(exclude='object').copy()\n",
        "    c_train = X_train.select_dtypes(include='object').copy()\n",
        "    c_test = X_test.select_dtypes(include='object').copy()\n",
        "    return n_train, n_test, c_train, c_test\n",
        "\n",
        "n_train, n_test, c_train, c_test = get_nc_data() # 데이터 새로 불러오기"
      ],
      "execution_count": null,
      "outputs": []
    },
    {
      "cell_type": "code",
      "metadata": {
        "id": "7whumLJdJIMX"
      },
      "source": [
        "# 데이처 확인(수치형 데이터)\n"
      ],
      "execution_count": null,
      "outputs": []
    },
    {
      "cell_type": "code",
      "metadata": {
        "id": "3VzDo2EjJLBn"
      },
      "source": [
        "# 데이처 확인(범주형 데이터)\n"
      ],
      "execution_count": null,
      "outputs": []
    },
    {
      "cell_type": "markdown",
      "metadata": {
        "id": "zQ7S7io2-81R"
      },
      "source": [
        "## 스케일링\n",
        "- 트리기반의 모델은 입력의 스케일을 크게 신경쓰지 않아도 됨\n",
        "- 선형회귀나 로지스틱 회귀 등과 같은 모델은 입력의 스케일링에 영향을 받음"
      ]
    },
    {
      "cell_type": "code",
      "metadata": {
        "id": "opWic-wn7QTG"
      },
      "source": [
        "# 스케일링 작업할 컬럼명\n",
        "cols = ['age', 'fnlwgt', 'education.num', 'capital.gain', 'capital.loss', 'hours.per.week']"
      ],
      "execution_count": null,
      "outputs": []
    },
    {
      "cell_type": "code",
      "metadata": {
        "id": "uQbHbOpw_JYE"
      },
      "source": [
        "# 민-맥스 스케일링 MinMaxScaler (모든 값이 0과 1사이)\n",
        "n_train, n_test, c_train, c_test = get_nc_data() # 데이터 새로 불러오기\n",
        "\n"
      ],
      "execution_count": null,
      "outputs": []
    },
    {
      "cell_type": "code",
      "metadata": {
        "id": "QMwqv0BAA2BU"
      },
      "source": [
        "# 표준화 StandardScaler (Z-score 정규화, 평균이 0 표준편차가 1인 표준 정규분포로 변경)\n",
        "n_train, n_test, c_train, c_test = get_nc_data() # 데이터 새로 불러오기\n",
        "\n"
      ],
      "execution_count": null,
      "outputs": []
    },
    {
      "cell_type": "code",
      "metadata": {
        "id": "lDKkmZSt6hxo"
      },
      "source": [
        "# 로버스트 스케일링 : 중앙값과 사분위 값 활용, 이상치 영향 최소화 장점\n",
        "n_train, n_test, c_train, c_test = get_nc_data() # 데이터 새로 불러오기\n",
        "\n"
      ],
      "execution_count": null,
      "outputs": []
    },
    {
      "cell_type": "code",
      "metadata": {
        "id": "u_CZHx2_8k67"
      },
      "source": [
        "# 로그 변환 예시\n"
      ],
      "execution_count": null,
      "outputs": []
    },
    {
      "cell_type": "code",
      "metadata": {
        "id": "wNkfz6-p-TpV"
      },
      "source": [
        "# 로그 변환 전후 확인\n"
      ],
      "execution_count": null,
      "outputs": []
    },
    {
      "cell_type": "code",
      "metadata": {
        "id": "c0CyaqjC-dlL"
      },
      "source": [
        "# 로그 변환 후 시각화\n"
      ],
      "execution_count": null,
      "outputs": []
    },
    {
      "cell_type": "code",
      "metadata": {
        "id": "nSWFJMCs-gbb"
      },
      "source": [
        "# np.exp\n"
      ],
      "execution_count": null,
      "outputs": []
    },
    {
      "cell_type": "markdown",
      "metadata": {
        "id": "OrUiSCkB_caL"
      },
      "source": [
        "## 인코딩\n",
        "- 라벨(label) 인코딩\n",
        "- 원핫(one-hot) 인코딩"
      ]
    },
    {
      "cell_type": "code",
      "metadata": {
        "id": "-r1e9rOT_9Ig"
      },
      "source": [
        "# 범주형 데이터 확인(인코딩 전)\n"
      ],
      "execution_count": null,
      "outputs": []
    },
    {
      "cell_type": "code",
      "metadata": {
        "id": "yihUjfOj_4iv"
      },
      "source": [
        "# object 컬럼명\n"
      ],
      "execution_count": null,
      "outputs": []
    },
    {
      "cell_type": "code",
      "metadata": {
        "id": "nF6wyi8W_idG"
      },
      "source": [
        "# 라벨 인코딩\n",
        "n_train, n_test, c_train, c_test = get_nc_data() # 데이터 새로 불러오기\n",
        "\n"
      ],
      "execution_count": null,
      "outputs": []
    },
    {
      "cell_type": "code",
      "metadata": {
        "id": "ExCwmHOKFWR-"
      },
      "source": [
        "# 범주형 데이터 확인(인코딩 후)\n"
      ],
      "execution_count": null,
      "outputs": []
    },
    {
      "cell_type": "code",
      "metadata": {
        "id": "oI1lmzV5FnNg"
      },
      "source": [
        "# 원핫 인코딩\n",
        "n_train, n_test, c_train, c_test = get_nc_data() # 데이터 새로 불러오기\n",
        "\n"
      ],
      "execution_count": null,
      "outputs": []
    },
    {
      "cell_type": "markdown",
      "metadata": {
        "id": "5_RBW1YwO2lP"
      },
      "source": [
        "## 데이터 합치기"
      ]
    },
    {
      "cell_type": "code",
      "metadata": {
        "id": "jqNnE6G2FnSY"
      },
      "source": [
        "# 분리한 데이터 다시 합침\n",
        "n_train, n_test, c_train, c_test = get_nc_data() # 데이터 새로 불러오기\n",
        "\n"
      ],
      "execution_count": null,
      "outputs": []
    },
    {
      "cell_type": "code",
      "metadata": {
        "id": "QJi6RtYbfKX4"
      },
      "source": [
        "# 데이터 새로 불러오기\n",
        "import pandas as pd\n",
        "\n",
        "X_train = pd.read_csv(\"X_train.csv\")\n",
        "X_test = pd.read_csv(\"X_test.csv\")\n",
        "y_train = pd.read_csv(\"y_train.csv\")"
      ],
      "execution_count": null,
      "outputs": []
    },
    {
      "cell_type": "code",
      "metadata": {
        "id": "pGYz8fDVW8e6"
      },
      "source": [
        "# train, test 합쳐서 인코딩 후 분리하기\n"
      ],
      "execution_count": null,
      "outputs": []
    },
    {
      "cell_type": "code",
      "metadata": {
        "id": "htZQF5pjfKfo"
      },
      "source": [],
      "execution_count": null,
      "outputs": []
    },
    {
      "cell_type": "markdown",
      "metadata": {
        "id": "Pyh5mqnTFoar"
      },
      "source": [
        "## 정리"
      ]
    },
    {
      "cell_type": "code",
      "metadata": {
        "id": "jTSBvsudFQwF"
      },
      "source": [
        "# 데이터 분리\n",
        "n_train, n_test, c_train, c_test = get_nc_data() # 데이터 새로 불러오기"
      ],
      "execution_count": null,
      "outputs": []
    },
    {
      "cell_type": "code",
      "metadata": {
        "id": "EwNRGedtFQ2k"
      },
      "source": [
        "# 수치형 - 민맥스 스케일링\n",
        "cols = ['age', 'fnlwgt', 'education.num', 'capital.gain', 'capital.loss', 'hours.per.week']\n",
        "\n"
      ],
      "execution_count": null,
      "outputs": []
    },
    {
      "cell_type": "code",
      "metadata": {
        "id": "ldwWpC75Ej_m"
      },
      "source": [
        "# 라벨 인코딩\n",
        "cols = ['workclass', 'education', 'marital.status', 'occupation', 'relationship', 'race', 'sex', 'native.country']\n",
        "\n"
      ],
      "execution_count": null,
      "outputs": []
    },
    {
      "cell_type": "code",
      "metadata": {
        "id": "vvo2uTgxPifA"
      },
      "source": [
        "# 분리한 데이터 다시 합침\n"
      ],
      "execution_count": null,
      "outputs": []
    },
    {
      "cell_type": "code",
      "metadata": {
        "id": "yoey3VkxPihc"
      },
      "source": [
        "# 데이터 확인\n"
      ],
      "execution_count": null,
      "outputs": []
    }
  ]
}