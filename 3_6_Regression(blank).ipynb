{
  "nbformat": 4,
  "nbformat_minor": 0,
  "metadata": {
    "colab": {
      "provenance": [],
      "include_colab_link": true
    },
    "kernelspec": {
      "name": "python3",
      "display_name": "Python 3"
    },
    "language_info": {
      "name": "python"
    }
  },
  "cells": [
    {
      "cell_type": "markdown",
      "metadata": {
        "id": "view-in-github",
        "colab_type": "text"
      },
      "source": [
        "<a href=\"https://colab.research.google.com/github/ki2dek/BigdataAnalyticsGisa/blob/main/3_6_Regression(blank).ipynb\" target=\"_parent\"><img src=\"https://colab.research.google.com/assets/colab-badge.svg\" alt=\"Open In Colab\"/></a>"
      ]
    },
    {
      "cell_type": "markdown",
      "metadata": {
        "id": "cYH8Wx8aUq3c"
      },
      "source": [
        "데이터 : data_regression.zip (수업노트에서 다운로드)\n",
        "- train.csv, test.csv만 사용\n",
        "- y_test.csv파일은 최종 평가용임\n",
        "\n",
        "## 머신러닝\n",
        "- 문제정의, 라이브러리/데이터 불러오기\n",
        "- 탐색적 데이터 분석 (EDA)\n",
        "- 데이터 전처리\n",
        "- 피처엔지니어링\n",
        "- (Train/Validation 나누기)\n",
        "- 모델 선택/훈련/평가/최적화\n",
        "- 예측\n",
        "- (csv 생성)"
      ]
    },
    {
      "cell_type": "markdown",
      "metadata": {
        "id": "dSkOUjVvxq8k"
      },
      "source": [
        "## 문제정의, 라이브러리/데이터 불러오기\n",
        "- 보험료 예측\n",
        "- 평가: rmse\n",
        "- csv: id와 예측 값"
      ]
    },
    {
      "cell_type": "code",
      "metadata": {
        "id": "G9ifIuitUpXY"
      },
      "source": [
        "# 라이브러리 및 데이터 불러오기\n"
      ],
      "execution_count": null,
      "outputs": []
    },
    {
      "cell_type": "markdown",
      "metadata": {
        "id": "Grgx4kJVzxa_"
      },
      "source": [
        "## EDA"
      ]
    },
    {
      "cell_type": "code",
      "metadata": {
        "id": "8SqOzW1Yxn6N"
      },
      "source": [
        "# 데이터 크기 확인\n"
      ],
      "execution_count": null,
      "outputs": []
    },
    {
      "cell_type": "code",
      "metadata": {
        "id": "WCPvXl1uxniM"
      },
      "source": [
        "# 데이터 샘플 확인 (train)\n"
      ],
      "execution_count": null,
      "outputs": []
    },
    {
      "cell_type": "code",
      "metadata": {
        "id": "I_krtCw_yinp"
      },
      "source": [
        "# 데이터 샘플 확인 (test)\n"
      ],
      "execution_count": null,
      "outputs": []
    },
    {
      "cell_type": "code",
      "metadata": {
        "id": "Ii1F-WNnyssG"
      },
      "source": [
        "# 결측치 확인 (train)\n"
      ],
      "execution_count": null,
      "outputs": []
    },
    {
      "cell_type": "code",
      "metadata": {
        "id": "Dmab9g6Xy0fP"
      },
      "source": [
        "# 결측치 확인 (test)\n"
      ],
      "execution_count": null,
      "outputs": []
    },
    {
      "cell_type": "code",
      "metadata": {
        "id": "sk-Gpc6Fy2fa"
      },
      "source": [
        "# 통계값 확인\n"
      ],
      "execution_count": null,
      "outputs": []
    },
    {
      "cell_type": "code",
      "metadata": {
        "id": "_8KGGvCwzPdb"
      },
      "source": [
        "# 통계값 object (train)\n"
      ],
      "execution_count": null,
      "outputs": []
    },
    {
      "cell_type": "code",
      "metadata": {
        "id": "KcfTYOV_zaUD"
      },
      "source": [
        "# 통계값 object (test)\n"
      ],
      "execution_count": null,
      "outputs": []
    },
    {
      "cell_type": "markdown",
      "metadata": {
        "id": "GcaU_s0Sz1gh"
      },
      "source": [
        "## 데이터 전처리 및 피처 엔지니어링"
      ]
    },
    {
      "cell_type": "code",
      "metadata": {
        "id": "xmtk8my1-k9I"
      },
      "source": [
        "# 데이터 샘플\n"
      ],
      "execution_count": null,
      "outputs": []
    },
    {
      "cell_type": "code",
      "metadata": {
        "id": "1yyhZVUE0Wpc"
      },
      "source": [
        "# object 컬럼명 선택\n"
      ],
      "execution_count": null,
      "outputs": []
    },
    {
      "cell_type": "code",
      "metadata": {
        "id": "7C2Me9mUziCh"
      },
      "source": [
        "# 원핫 인코딩\n"
      ],
      "execution_count": null,
      "outputs": []
    },
    {
      "cell_type": "code",
      "metadata": {
        "id": "7KxCC8MA-zaE"
      },
      "source": [
        "# 스케일링\n"
      ],
      "execution_count": null,
      "outputs": []
    },
    {
      "cell_type": "code",
      "metadata": {
        "id": "QLrkZZ3EHfPB"
      },
      "source": [
        "# 로그 스케일 전(시각화)\n"
      ],
      "execution_count": null,
      "outputs": []
    },
    {
      "cell_type": "code",
      "metadata": {
        "id": "RGzTcjk3Hmnt"
      },
      "source": [
        "# 로그 스케일\n"
      ],
      "execution_count": null,
      "outputs": []
    },
    {
      "cell_type": "code",
      "metadata": {
        "id": "CtvWJM2KHmw1"
      },
      "source": [
        "# 로그 스케일 후(시각화)\n"
      ],
      "execution_count": null,
      "outputs": []
    },
    {
      "cell_type": "markdown",
      "metadata": {
        "id": "WEqMbUPM3_DN"
      },
      "source": [
        "## 검증 데이터 분리"
      ]
    },
    {
      "cell_type": "code",
      "metadata": {
        "id": "9HCgScEG4HO7"
      },
      "source": [
        "# 검증 데이터 분리\n"
      ],
      "execution_count": null,
      "outputs": []
    },
    {
      "cell_type": "code",
      "metadata": {
        "id": "Dn-CGcy3EjZX"
      },
      "source": [
        "# X 데이터 확인\n"
      ],
      "execution_count": null,
      "outputs": []
    },
    {
      "cell_type": "code",
      "metadata": {
        "id": "nD_yx-DGElT9"
      },
      "source": [
        "# y 데이터 확인\n"
      ],
      "execution_count": null,
      "outputs": []
    },
    {
      "cell_type": "code",
      "metadata": {
        "id": "TQdaUPaA-8l6"
      },
      "source": [
        "# 평가 수식\n"
      ],
      "execution_count": null,
      "outputs": []
    },
    {
      "cell_type": "code",
      "metadata": {
        "id": "e2viUaoi6NqT"
      },
      "source": [
        "# LinearRegression\n"
      ],
      "execution_count": null,
      "outputs": []
    },
    {
      "cell_type": "code",
      "metadata": {
        "id": "cWFPJvwO4IrE"
      },
      "source": [
        "# RandomForestRegressor\n"
      ],
      "execution_count": null,
      "outputs": []
    },
    {
      "cell_type": "code",
      "metadata": {
        "id": "ZNqvfwRg6j25"
      },
      "source": [
        "# xgboost Regressor\n"
      ],
      "execution_count": null,
      "outputs": []
    },
    {
      "cell_type": "code",
      "metadata": {
        "id": "51jC0_fp8dlr"
      },
      "source": [
        "# test 데이터 예측\n"
      ],
      "execution_count": null,
      "outputs": []
    },
    {
      "cell_type": "code",
      "metadata": {
        "id": "sV5RqmuK47fv"
      },
      "source": [
        "# 제출용 데이터 프레임\n"
      ],
      "execution_count": null,
      "outputs": []
    },
    {
      "cell_type": "code",
      "metadata": {
        "id": "jla2SexZ8OLV"
      },
      "source": [
        "# csv파일 생성\n"
      ],
      "execution_count": null,
      "outputs": []
    },
    {
      "cell_type": "markdown",
      "metadata": {
        "id": "xOfLcFKA85tH"
      },
      "source": [
        "## 평가\n",
        "- 수험자는 알 수 없는 영역\n",
        "- 영상에는 np.exp()가 빠져있습니다. np.exp(pred)가 정확한 코드입니다."
      ]
    },
    {
      "cell_type": "code",
      "metadata": {
        "id": "prqxVnd34aJC"
      },
      "source": [],
      "execution_count": null,
      "outputs": []
    },
    {
      "cell_type": "code",
      "metadata": {
        "id": "kL4RbXW0Jw_G"
      },
      "source": [],
      "execution_count": null,
      "outputs": []
    }
  ]
}