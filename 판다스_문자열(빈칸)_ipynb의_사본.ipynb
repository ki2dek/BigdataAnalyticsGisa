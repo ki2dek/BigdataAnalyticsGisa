{
  "nbformat": 4,
  "nbformat_minor": 0,
  "metadata": {
    "colab": {
      "provenance": [],
      "include_colab_link": true
    },
    "kernelspec": {
      "name": "python3",
      "display_name": "Python 3"
    },
    "language_info": {
      "name": "python"
    }
  },
  "cells": [
    {
      "cell_type": "markdown",
      "metadata": {
        "id": "view-in-github",
        "colab_type": "text"
      },
      "source": [
        "<a href=\"https://colab.research.google.com/github/ki2dek/BigdataAnalyticsGisa/blob/main/%ED%8C%90%EB%8B%A4%EC%8A%A4_%EB%AC%B8%EC%9E%90%EC%97%B4(%EB%B9%88%EC%B9%B8)_ipynb%EC%9D%98_%EC%82%AC%EB%B3%B8.ipynb\" target=\"_parent\"><img src=\"https://colab.research.google.com/assets/colab-badge.svg\" alt=\"Open In Colab\"/></a>"
      ]
    },
    {
      "cell_type": "markdown",
      "source": [
        "## 문자열(심화)"
      ],
      "metadata": {
        "id": "Ppl4bKyhVpg3"
      }
    },
    {
      "cell_type": "code",
      "source": [
        "import pandas as pd\n",
        "df = pd.DataFrame({'A': ['블루베리 스무디', '딸기 스무디', '딸기 바나나 스무디'],\n",
        "                   'B': [10, 20, 30],\n",
        "                   'C': ['추천/신메뉴', '신메뉴/할인', '사이즈업/추천'],\n",
        "                   'D': ['ab cd', 'AB CD', 'ab cd']\n",
        "                   })\n",
        "df"
      ],
      "metadata": {
        "id": "60iKGhzTWn51"
      },
      "execution_count": null,
      "outputs": []
    },
    {
      "cell_type": "code",
      "source": [
        "# replace, 전체 문자가 일치해야 변경\n"
      ],
      "metadata": {
        "id": "60fjxAGeWL_i"
      },
      "execution_count": null,
      "outputs": []
    },
    {
      "cell_type": "code",
      "source": [
        "# str.replace, 일부 일치하는 문자 변경\n"
      ],
      "metadata": {
        "id": "5yjV9qvCXSKD"
      },
      "execution_count": null,
      "outputs": []
    },
    {
      "cell_type": "code",
      "source": [
        "# replace 데이터프레임\n"
      ],
      "metadata": {
        "id": "Um3fcFfI_Zmw"
      },
      "execution_count": null,
      "outputs": []
    },
    {
      "cell_type": "code",
      "source": [
        "# 숫자 변경\n"
      ],
      "metadata": {
        "id": "e8f9sGv5WEjh"
      },
      "execution_count": null,
      "outputs": []
    },
    {
      "cell_type": "code",
      "source": [
        "# 숫자 변경(str.replace)\n",
        "# df['B'] = df['B'].str.replace(10, 100)\n",
        "# df"
      ],
      "metadata": {
        "id": "tlzY5qzVWElz"
      },
      "execution_count": null,
      "outputs": []
    },
    {
      "cell_type": "code",
      "source": [
        "# 어절 나누기\n"
      ],
      "metadata": {
        "id": "ywrWca_AWEoC"
      },
      "execution_count": null,
      "outputs": []
    },
    {
      "cell_type": "code",
      "source": [
        "# 어절 나눈 후 첫 번째 값\n"
      ],
      "metadata": {
        "id": "Uq5tvhKTWEql"
      },
      "execution_count": null,
      "outputs": []
    },
    {
      "cell_type": "code",
      "source": [
        "# 어절 나눈 후 첫 번째 값을 새로운 컬럼으로 대입\n"
      ],
      "metadata": {
        "id": "X5ZM42Q3WEvB"
      },
      "execution_count": null,
      "outputs": []
    },
    {
      "cell_type": "code",
      "source": [
        "# 어절 나누기(/)\n"
      ],
      "metadata": {
        "id": "ba1xGxJBCVF4"
      },
      "execution_count": null,
      "outputs": []
    },
    {
      "cell_type": "code",
      "source": [
        "# 특정 문자 찾기 (contains)\n"
      ],
      "metadata": {
        "id": "lOIKsV4bWEyE"
      },
      "execution_count": null,
      "outputs": []
    },
    {
      "cell_type": "code",
      "source": [
        "# 특정 문자 찾은 후 새컬럼에 대입 (contains)\n"
      ],
      "metadata": {
        "id": "mhyJfGtHb7iV"
      },
      "execution_count": null,
      "outputs": []
    },
    {
      "cell_type": "code",
      "source": [
        "# 데이터\n"
      ],
      "metadata": {
        "id": "eMdc3BO7F3QU"
      },
      "execution_count": null,
      "outputs": []
    },
    {
      "cell_type": "code",
      "source": [
        "# 특정 값이 있는지 확인하기 (isin)\n"
      ],
      "metadata": {
        "id": "czuN-m0fBsrZ"
      },
      "execution_count": null,
      "outputs": []
    },
    {
      "cell_type": "code",
      "source": [
        "# 특정 단어가 있는지 확인하기 (isin)\n"
      ],
      "metadata": {
        "id": "HFjWyGAf-jiR"
      },
      "execution_count": null,
      "outputs": []
    },
    {
      "cell_type": "code",
      "source": [
        "# 특정 단어가 있는지 확인하기 (contains)\n"
      ],
      "metadata": {
        "id": "G84AzAJ9Bs0H"
      },
      "execution_count": null,
      "outputs": []
    },
    {
      "cell_type": "code",
      "source": [
        "# 문자 길이\n"
      ],
      "metadata": {
        "id": "vM6YVDfScIFE"
      },
      "execution_count": null,
      "outputs": []
    },
    {
      "cell_type": "code",
      "source": [
        "# 대소문자 구분\n"
      ],
      "metadata": {
        "id": "mWZU6-sxc6UY"
      },
      "execution_count": null,
      "outputs": []
    },
    {
      "cell_type": "code",
      "source": [
        "# 소문자로 변경\n"
      ],
      "metadata": {
        "id": "tTPHWQTFcRlw"
      },
      "execution_count": null,
      "outputs": []
    },
    {
      "cell_type": "code",
      "source": [
        "# 대문자로 변경\n"
      ],
      "metadata": {
        "id": "i6HwdFOkcxf_"
      },
      "execution_count": null,
      "outputs": []
    },
    {
      "cell_type": "code",
      "source": [
        "df2 = pd.DataFrame({'A': ['블루베리 스무디', '딸기 스무디', '딸기 바나나 스무디'],\n",
        "                   'B': [10, 20, 30],\n",
        "                   'C': ['추천/신메뉴', '신메뉴/할인', '사이즈업/추천'],\n",
        "                   'D': ['ab cd', 'AB CD', 'ab cd ']\n",
        "                   })"
      ],
      "metadata": {
        "id": "BJJweMqfNgdS"
      },
      "execution_count": null,
      "outputs": []
    },
    {
      "cell_type": "code",
      "source": [
        "# AB CD와 같은가?\n"
      ],
      "metadata": {
        "id": "ALcJ9DHYewaW"
      },
      "execution_count": null,
      "outputs": []
    },
    {
      "cell_type": "code",
      "source": [
        "# 공백 제거\n"
      ],
      "metadata": {
        "id": "hnRs8QmgdOUi"
      },
      "execution_count": null,
      "outputs": []
    },
    {
      "cell_type": "code",
      "source": [
        "# 슬라이싱(str)\n"
      ],
      "metadata": {
        "id": "yAOR6GpNWft6"
      },
      "execution_count": null,
      "outputs": []
    },
    {
      "cell_type": "code",
      "source": [
        "# 슬라이싱\n"
      ],
      "metadata": {
        "id": "hanV9aJEWNIR"
      },
      "execution_count": null,
      "outputs": []
    },
    {
      "cell_type": "code",
      "source": [
        "# 데이터\n"
      ],
      "metadata": {
        "id": "RgVxQ1hpGGj-"
      },
      "execution_count": null,
      "outputs": []
    },
    {
      "cell_type": "code",
      "source": [
        "# 연도\n"
      ],
      "metadata": {
        "id": "eWCMhfd37upw"
      },
      "execution_count": null,
      "outputs": []
    },
    {
      "cell_type": "code",
      "source": [
        "# 월\n"
      ],
      "metadata": {
        "id": "u7mwksa8A8Qt"
      },
      "execution_count": null,
      "outputs": []
    },
    {
      "cell_type": "code",
      "source": [],
      "metadata": {
        "id": "4XoofhbAOoXR"
      },
      "execution_count": null,
      "outputs": []
    }
  ]
}