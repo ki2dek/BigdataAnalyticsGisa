{
  "nbformat": 4,
  "nbformat_minor": 0,
  "metadata": {
    "colab": {
      "provenance": [],
      "include_colab_link": true
    },
    "kernelspec": {
      "name": "python3",
      "display_name": "Python 3"
    },
    "language_info": {
      "name": "python"
    }
  },
  "cells": [
    {
      "cell_type": "markdown",
      "metadata": {
        "id": "view-in-github",
        "colab_type": "text"
      },
      "source": [
        "<a href=\"https://colab.research.google.com/github/ki2dek/BigdataAnalyticsGisa/blob/main/3_3_Preprocessing(blank).ipynb\" target=\"_parent\"><img src=\"https://colab.research.google.com/assets/colab-badge.svg\" alt=\"Open In Colab\"/></a>"
      ]
    },
    {
      "cell_type": "markdown",
      "metadata": {
        "id": "E-4qBDyJ_3pY"
      },
      "source": [
        "## 데이터 전처리\n",
        "- 결측치 처리\n",
        "- 이상치 처리\n",
        "\n",
        "- 데이터 : data_atype.zip (수업노트에서 다운로드)"
      ]
    },
    {
      "cell_type": "markdown",
      "metadata": {
        "id": "4pdzfX3QAASW"
      },
      "source": [
        "## 라이브러리 및 데이터 불러오기"
      ]
    },
    {
      "cell_type": "code",
      "metadata": {
        "id": "LYqxDYWhvcPk"
      },
      "source": [],
      "execution_count": null,
      "outputs": []
    },
    {
      "cell_type": "markdown",
      "metadata": {
        "id": "pn9UuRqWw1sl"
      },
      "source": [
        "# 결측치"
      ]
    },
    {
      "cell_type": "code",
      "metadata": {
        "id": "lL5PrRTKw3q_"
      },
      "source": [
        "# 데이터 샘플 확인\n"
      ],
      "execution_count": null,
      "outputs": []
    },
    {
      "cell_type": "code",
      "metadata": {
        "id": "WDWyjF66w6eg"
      },
      "source": [
        "# 결측치 컬럼 확인\n"
      ],
      "execution_count": null,
      "outputs": []
    },
    {
      "cell_type": "code",
      "metadata": {
        "id": "E-cuOBumAQY1"
      },
      "source": [
        "# 데이터 타입 확인\n"
      ],
      "execution_count": null,
      "outputs": []
    },
    {
      "cell_type": "code",
      "metadata": {
        "id": "wMIKvIsiw_mc"
      },
      "source": [
        "# workclass 컬럼 고유 값 개수\n"
      ],
      "execution_count": null,
      "outputs": []
    },
    {
      "cell_type": "code",
      "metadata": {
        "id": "UhjjkgfPxG7U"
      },
      "source": [
        "# occupation 컬럼 고유 값 개수\n"
      ],
      "execution_count": null,
      "outputs": []
    },
    {
      "cell_type": "code",
      "metadata": {
        "id": "TwZX4gmVxKVu"
      },
      "source": [
        "# native.country 컬럼 고유 값 개수\n"
      ],
      "execution_count": null,
      "outputs": []
    },
    {
      "cell_type": "markdown",
      "metadata": {
        "id": "uGTmi2mUxVso"
      },
      "source": [
        "# 범주형 변수 결측치\n",
        "- 삭제\n",
        "- 최빈값\n",
        "- 없는값"
      ]
    },
    {
      "cell_type": "markdown",
      "metadata": {
        "id": "kLTURBAIIxK9"
      },
      "source": [
        "## 삭제"
      ]
    },
    {
      "cell_type": "code",
      "metadata": {
        "id": "kab44IcECSVk"
      },
      "source": [
        "# X_train과 X_test 데이터 크기 확인\n"
      ],
      "execution_count": null,
      "outputs": []
    },
    {
      "cell_type": "code",
      "metadata": {
        "id": "tLho960vii_H"
      },
      "source": [
        "# 결측치 확인\n"
      ],
      "execution_count": null,
      "outputs": []
    },
    {
      "cell_type": "code",
      "metadata": {
        "id": "lQpcaqEhENJr"
      },
      "source": [
        "# 결측치가 있는 데이터(행) 전체 삭제 및 확인 dropna() #기본값 axis=0\n"
      ],
      "execution_count": null,
      "outputs": []
    },
    {
      "cell_type": "code",
      "metadata": {
        "id": "Kskq244HEdJg"
      },
      "source": [
        "# 특정컬럼에 결측치가 있으면 데이터(행) 삭제 subset=['native.country']\n"
      ],
      "execution_count": null,
      "outputs": []
    },
    {
      "cell_type": "code",
      "metadata": {
        "id": "qfmtzzZDE5Mj"
      },
      "source": [
        "# 특정컬럼에 결측치가 있으면 데이터(행) 삭제 subset=['native.country', 'workclass']\n"
      ],
      "execution_count": null,
      "outputs": []
    },
    {
      "cell_type": "code",
      "metadata": {
        "id": "2DoT-qixF0sS"
      },
      "source": [
        "# 결측치가 있는 컬럼 삭제 dropna(axis=1)\n"
      ],
      "execution_count": null,
      "outputs": []
    },
    {
      "cell_type": "code",
      "metadata": {
        "id": "iYvjtY0WFKID"
      },
      "source": [
        "# 결측치가 많은 특정 컬럼 삭제 drop(['workclass'], axis=1)\n"
      ],
      "execution_count": null,
      "outputs": []
    },
    {
      "cell_type": "code",
      "metadata": {
        "id": "IZeQj4z4JpSi"
      },
      "source": [
        "# 중복값 제거 drop_duplicates()\n"
      ],
      "execution_count": null,
      "outputs": []
    },
    {
      "cell_type": "markdown",
      "metadata": {
        "id": "0XM3j2ZHI_dr"
      },
      "source": [
        "## 채우기"
      ]
    },
    {
      "cell_type": "code",
      "metadata": {
        "id": "iq_U4LlmGV-v"
      },
      "source": [
        "# 최빈값\n"
      ],
      "execution_count": null,
      "outputs": []
    },
    {
      "cell_type": "code",
      "metadata": {
        "id": "iYXBcyXlJoUP"
      },
      "source": [
        "# 결측값을 새로운 카테고리로 생성 X_train['occupation']\n"
      ],
      "execution_count": null,
      "outputs": []
    },
    {
      "cell_type": "markdown",
      "metadata": {
        "id": "2CUTjg3IKrnW"
      },
      "source": [
        "### 결측치 처리\n",
        "- workclass 최빈값\n",
        "- native.country 최빈값\n",
        "- occupation 별도의 카테고리로"
      ]
    },
    {
      "cell_type": "code",
      "metadata": {
        "id": "7aNMkiAmnmWa"
      },
      "source": [
        "# 데이터 불러오기\n"
      ],
      "execution_count": null,
      "outputs": []
    },
    {
      "cell_type": "code",
      "metadata": {
        "id": "B8At4c0SxYhH"
      },
      "source": [
        "# X_train데이터\n"
      ],
      "execution_count": null,
      "outputs": []
    },
    {
      "cell_type": "code",
      "metadata": {
        "id": "bxwDq02iyte5"
      },
      "source": [
        "# X_test데이터\n"
      ],
      "execution_count": null,
      "outputs": []
    },
    {
      "cell_type": "code",
      "metadata": {
        "id": "jOtlm3KYCJq4"
      },
      "source": [
        "# 결측치 확인\n"
      ],
      "execution_count": null,
      "outputs": []
    },
    {
      "cell_type": "markdown",
      "metadata": {
        "id": "BoNBTeGMx47W"
      },
      "source": [
        "### 수치형 변수 결측치\n",
        "- 평균값\n",
        "- 중앙값\n",
        "- 최대값\n",
        "- 최소값\n",
        "- 그룹별 00 값"
      ]
    },
    {
      "cell_type": "code",
      "metadata": {
        "id": "lzQa_deNy0u4"
      },
      "source": [
        "#결측치 확인\n"
      ],
      "execution_count": null,
      "outputs": []
    },
    {
      "cell_type": "code",
      "metadata": {
        "id": "MX8YS8m-MePW"
      },
      "source": [
        "# 평균값\n"
      ],
      "execution_count": null,
      "outputs": []
    },
    {
      "cell_type": "code",
      "metadata": {
        "id": "Ateg2ElSMeaJ"
      },
      "source": [
        "# 중앙값\n"
      ],
      "execution_count": null,
      "outputs": []
    },
    {
      "cell_type": "code",
      "metadata": {
        "id": "sKpdPiInMeiU"
      },
      "source": [
        "# 최대값\n"
      ],
      "execution_count": null,
      "outputs": []
    },
    {
      "cell_type": "code",
      "metadata": {
        "id": "2Ul5MQSvM57O"
      },
      "source": [
        "# 최소값\n"
      ],
      "execution_count": null,
      "outputs": []
    },
    {
      "cell_type": "code",
      "metadata": {
        "id": "BTSVqAjBNEQ7"
      },
      "source": [
        "# age 컬럼 평균값으로 채우기\n"
      ],
      "execution_count": null,
      "outputs": []
    },
    {
      "cell_type": "code",
      "metadata": {
        "id": "5YPakgqSNETe"
      },
      "source": [
        "# 주당 근무시간 중앙값으로 채우기\n"
      ],
      "execution_count": null,
      "outputs": []
    },
    {
      "cell_type": "code",
      "metadata": {
        "id": "Cv1Nx-LeOFrb"
      },
      "source": [
        "# X_train 결측치 확인\n"
      ],
      "execution_count": null,
      "outputs": []
    },
    {
      "cell_type": "code",
      "metadata": {
        "id": "Fu8ruSKUOIYU"
      },
      "source": [
        "# X_test 결측치 확인\n"
      ],
      "execution_count": null,
      "outputs": []
    },
    {
      "cell_type": "markdown",
      "metadata": {
        "id": "pFvq2XYSzXFg"
      },
      "source": [
        "## 이상치 처리\n",
        "- 이상한 값 삭제"
      ]
    },
    {
      "cell_type": "code",
      "metadata": {
        "id": "KCfJ7uLM9qz_"
      },
      "source": [
        "# X_train 통계 확인\n"
      ],
      "execution_count": null,
      "outputs": []
    },
    {
      "cell_type": "code",
      "metadata": {
        "id": "yfKQO_vk92PZ"
      },
      "source": [
        "# age가 음수인 데이터\n"
      ],
      "execution_count": null,
      "outputs": []
    },
    {
      "cell_type": "code",
      "metadata": {
        "id": "bdUqrC2OOp8o"
      },
      "source": [
        "# age가 1이상인 데이터만 살림\n"
      ],
      "execution_count": null,
      "outputs": []
    },
    {
      "cell_type": "code",
      "metadata": {
        "id": "4144wRjvzZgw"
      },
      "source": [
        "# IQR로 확인\n",
        "cols = ['age','fnlwgt','education.num', 'capital.gain', 'capital.loss', 'hours.per.week']\n",
        "for col in cols:\n",
        "    Q1 = X_train[col].quantile(.25)\n",
        "    Q3 = X_train[col].quantile(.75)\n",
        "    IQR = Q3 - Q1\n",
        "    min_iqr = Q1-1.5*IQR\n",
        "    max_iqr = Q3+1.5*IQR\n",
        "    cnt=sum((X_train[col] < min_iqr) | (X_train[col] > max_iqr))\n",
        "    print(f'{col}의 이상치:{cnt}개 입니다.')"
      ],
      "execution_count": null,
      "outputs": []
    },
    {
      "cell_type": "markdown",
      "metadata": {
        "id": "AYFILnBVeedY"
      },
      "source": [
        "## 전처리 주의 사항\n",
        "- 이상치, 결측치에 대해 test 데이터(행) 삭제 불가\n",
        "    - 예) test 데이터 100개가 주어지고 100개로 평가를 하는데 임의로 10개를 삭제해버리면 채점을 할 수가 없음\n",
        "    - train 데이터는 학습/훈련용 데이터임. 데이터가 많을 경우 임의로 소수 데이터(행) 삭제해도 무방함\n",
        "- test, train 컬럼은 삭제/추가 가능. 단, train과 컬럼수와 명이 일치해야 함 (y(target) 제외)\n"
      ]
    }
  ]
}