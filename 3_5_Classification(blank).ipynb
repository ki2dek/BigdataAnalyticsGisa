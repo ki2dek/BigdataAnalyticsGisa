{
  "nbformat": 4,
  "nbformat_minor": 0,
  "metadata": {
    "colab": {
      "provenance": [],
      "include_colab_link": true
    },
    "kernelspec": {
      "name": "python3",
      "display_name": "Python 3"
    },
    "language_info": {
      "name": "python"
    }
  },
  "cells": [
    {
      "cell_type": "markdown",
      "metadata": {
        "id": "view-in-github",
        "colab_type": "text"
      },
      "source": [
        "<a href=\"https://colab.research.google.com/github/ki2dek/BigdataAnalyticsGisa/blob/main/3_5_Classification(blank).ipynb\" target=\"_parent\"><img src=\"https://colab.research.google.com/assets/colab-badge.svg\" alt=\"Open In Colab\"/></a>"
      ]
    },
    {
      "cell_type": "markdown",
      "metadata": {
        "id": "yay1MGk50Dpe"
      },
      "source": [
        "데이터 : data_atype.zip (수업노트에서 다운로드)\n",
        "\n",
        "## 머신러닝\n",
        "- 문제정의, 라이브러리/데이터 불러오기\n",
        "- 탐색적 데이터 분석 (EDA)\n",
        "- 데이터 전처리\n",
        "- 피처엔지니어링\n",
        "- (Train/Validation 나누기)\n",
        "- 모델 선택/훈련/평가/최적화\n",
        "- 예측\n",
        "- (csv 생성)"
      ]
    },
    {
      "cell_type": "markdown",
      "metadata": {
        "id": "t27TgVOS0GQ_"
      },
      "source": [
        "## 1. 베이스라인\n",
        "- 문제정의, 라이브러리 및 데이터 불러오기\n",
        "- 데이터 전처리 (단순 일괄 처리)\n",
        "- 모델 선택, 훈련\n",
        "- 평가\n",
        "\n",
        "## 2. 베이스라인\n",
        "- 훈련/검증용 데이터 분리\n",
        "- 모델 선택, 훈련\n",
        "    - 의사결정나무\n",
        "    - 랜덤포레스트\n",
        "    - XGBoost\n",
        "- 평가"
      ]
    },
    {
      "cell_type": "markdown",
      "metadata": {
        "id": "_80LyQdu5rIC"
      },
      "source": [
        "## 문제1\n",
        "- \"<= 50K -> 0\"\n",
        "- \"> 50K -> 1\"\n",
        "- 평가: 정확도"
      ]
    },
    {
      "cell_type": "code",
      "metadata": {
        "id": "Lms2RPdv1YEH"
      },
      "source": [
        "# 라이브러리 및 데이터 불러오기\n"
      ],
      "execution_count": null,
      "outputs": []
    },
    {
      "cell_type": "code",
      "metadata": {
        "id": "-Y8K4eEI1YGQ"
      },
      "source": [
        "# 데이터 크기\n"
      ],
      "execution_count": null,
      "outputs": []
    },
    {
      "cell_type": "code",
      "metadata": {
        "id": "gIDVmo1s1YIn"
      },
      "source": [
        "# 데이터 샘플\n"
      ],
      "execution_count": null,
      "outputs": []
    },
    {
      "cell_type": "code",
      "metadata": {
        "id": "FK4xO0LE1YKK"
      },
      "source": [
        "# 타겟 수 확인\n"
      ],
      "execution_count": null,
      "outputs": []
    },
    {
      "cell_type": "code",
      "metadata": {
        "id": "akwh0k9B1YMO"
      },
      "source": [
        "# type확인\n"
      ],
      "execution_count": null,
      "outputs": []
    },
    {
      "cell_type": "code",
      "metadata": {
        "id": "OqC_5By41YOn"
      },
      "source": [
        "# 수치형 데이터\n"
      ],
      "execution_count": null,
      "outputs": []
    },
    {
      "cell_type": "code",
      "metadata": {
        "id": "bgVNkdlr1YQp"
      },
      "source": [
        "# 수치형 데이처 통계\n"
      ],
      "execution_count": null,
      "outputs": []
    },
    {
      "cell_type": "code",
      "metadata": {
        "id": "hSZ6jcZU2yNo"
      },
      "source": [
        "# 결측값\n"
      ],
      "execution_count": null,
      "outputs": []
    },
    {
      "cell_type": "code",
      "metadata": {
        "id": "OWcS86eM29Lu"
      },
      "source": [
        "# 간단한 결측치 처리\n"
      ],
      "execution_count": null,
      "outputs": []
    },
    {
      "cell_type": "code",
      "metadata": {
        "id": "A2Yg-pHb3DOt"
      },
      "source": [
        "# 결측치 확인\n"
      ],
      "execution_count": null,
      "outputs": []
    },
    {
      "cell_type": "code",
      "metadata": {
        "id": "gN2pZzjk3Eqk"
      },
      "source": [
        "# 베이스 라인에서는 그외 전처리 및 피처 엔지니어링 생략"
      ],
      "execution_count": null,
      "outputs": []
    },
    {
      "cell_type": "code",
      "metadata": {
        "id": "JWTc9gNQ3YTd"
      },
      "source": [
        "# target값 변경\n",
        "# <=50K -> 0\n",
        "# >50K -> 1\n"
      ],
      "execution_count": null,
      "outputs": []
    },
    {
      "cell_type": "code",
      "metadata": {
        "id": "QigWJcUmlTf0"
      },
      "source": [
        "# 데이터 확인\n"
      ],
      "execution_count": null,
      "outputs": []
    },
    {
      "cell_type": "markdown",
      "metadata": {
        "id": "n8EH3M_AgD4k"
      },
      "source": [
        "## 머신러닝 모델"
      ]
    },
    {
      "cell_type": "code",
      "metadata": {
        "id": "RFDeHJ3h3eer"
      },
      "source": [
        "# 랜덤포레스트\n"
      ],
      "execution_count": null,
      "outputs": []
    },
    {
      "cell_type": "code",
      "metadata": {
        "id": "-9oS_eo1m9z7"
      },
      "source": [
        "# 데이터 크기 확인\n",
        "len(X_test)"
      ],
      "execution_count": null,
      "outputs": []
    },
    {
      "cell_type": "code",
      "metadata": {
        "id": "bPW5x_lc5MXv"
      },
      "source": [
        "# 예측 및 csv 파일 생성\n",
        "# pred[:10]\n"
      ],
      "execution_count": null,
      "outputs": []
    },
    {
      "cell_type": "code",
      "metadata": {
        "id": "0Ea7gujvmmOt"
      },
      "source": [
        "# 데이터 확인(y_train)\n"
      ],
      "execution_count": null,
      "outputs": []
    },
    {
      "cell_type": "code",
      "metadata": {
        "id": "DYWTioeQHxFB"
      },
      "source": [
        "# 평가 (수험자는 알 수 없는 부분임) accuracy\n",
        "from sklearn.metrics import accuracy_score\n",
        "y_test = pd.read_csv(\"y_test.csv\")\n",
        "ans = (y_test['income'] == '>50K').astype(int)\n",
        "accuracy_score(ans, pred)"
      ],
      "execution_count": null,
      "outputs": []
    },
    {
      "cell_type": "code",
      "metadata": {
        "id": "vewjbbWNoloZ"
      },
      "source": [
        "y_test"
      ],
      "execution_count": null,
      "outputs": []
    },
    {
      "cell_type": "markdown",
      "metadata": {
        "id": "_BKWTzWkJQv2"
      },
      "source": [
        "## 문제2\n",
        "- \"<= 50K -> 0\"\n",
        "- \"> 50K -> 1\"\n",
        "- 평가: roc_auc 예측 해야할 값은 : 확률"
      ]
    },
    {
      "cell_type": "markdown",
      "metadata": {
        "id": "Nzej09MlJ8LK"
      },
      "source": [
        "## 검증용 데이터 분리"
      ]
    },
    {
      "cell_type": "code",
      "metadata": {
        "id": "HVoBZvs1KIcX"
      },
      "source": [
        "# 학습용 데이터와 검증용 데이터로 구분\n"
      ],
      "execution_count": null,
      "outputs": []
    },
    {
      "cell_type": "code",
      "metadata": {
        "id": "3FRR7dQsqGM5"
      },
      "source": [
        "# 데이터 크기\n"
      ],
      "execution_count": null,
      "outputs": []
    },
    {
      "cell_type": "code",
      "metadata": {
        "id": "hgx0DBv0KUM9"
      },
      "source": [
        "# 의사결정나무\n"
      ],
      "execution_count": null,
      "outputs": []
    },
    {
      "cell_type": "code",
      "metadata": {
        "id": "MDQLbbrvKcby"
      },
      "source": [
        "# 랜덤포레스트\n"
      ],
      "execution_count": null,
      "outputs": []
    },
    {
      "cell_type": "code",
      "metadata": {
        "id": "F2z92oVuKcg3"
      },
      "source": [
        "# XGBoost\n"
      ],
      "execution_count": null,
      "outputs": []
    },
    {
      "cell_type": "code",
      "metadata": {
        "id": "e-4HSC67MKK8"
      },
      "source": [
        "# 평가 데이터로 예측 및 csv파일 생성\n"
      ],
      "execution_count": null,
      "outputs": []
    },
    {
      "cell_type": "markdown",
      "metadata": {
        "id": "Wmd5DkKbLibD"
      },
      "source": [
        "# 평가\n",
        "- 수험자는 알 수 없는 영역임"
      ]
    },
    {
      "cell_type": "code",
      "metadata": {
        "id": "lFxaAAK3LZfw"
      },
      "source": [
        "from sklearn.metrics import roc_auc_score\n",
        "y_test = pd.read_csv(\"y_test.csv\")\n",
        "ans = (y_test['income'] != '<=50K').astype(int)\n",
        "roc_auc_score(ans, pred[:,1])"
      ],
      "execution_count": null,
      "outputs": []
    },
    {
      "cell_type": "code",
      "metadata": {
        "id": "HFjeBQBDtVxN"
      },
      "source": [],
      "execution_count": null,
      "outputs": []
    }
  ]
}